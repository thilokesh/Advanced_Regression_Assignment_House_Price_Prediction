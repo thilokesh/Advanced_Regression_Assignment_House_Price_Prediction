{
 "cells": [
  {
   "cell_type": "markdown",
   "id": "d61b2b33",
   "metadata": {},
   "source": [
    "# House Price Prediction "
   ]
  },
  {
   "cell_type": "markdown",
   "id": "dfaf04ea",
   "metadata": {},
   "source": [
    "## Data Understanding and Exploration\n",
    "\n",
    "Let's first have a look at the dataset and understand the size, attribute names etc."
   ]
  },
  {
   "cell_type": "code",
   "execution_count": 1,
   "id": "f08964bb",
   "metadata": {},
   "outputs": [],
   "source": [
    "# Importing the required liberies\n",
    "import pandas as pd, numpy as np, matplotlib.pyplot as plt, seaborn as sns\n",
    "\n",
    "# Surpressing Warning\n",
    "import warnings\n",
    "warnings.filterwarnings('ignore')"
   ]
  },
  {
   "cell_type": "code",
   "execution_count": 2,
   "id": "1caad169",
   "metadata": {},
   "outputs": [],
   "source": [
    "# Reading data\n",
    "raw_data = pd.read_csv('train.csv')"
   ]
  },
  {
   "cell_type": "code",
   "execution_count": 3,
   "id": "bdd7a891",
   "metadata": {},
   "outputs": [
    {
     "data": {
      "text/html": [
       "<div>\n",
       "<style scoped>\n",
       "    .dataframe tbody tr th:only-of-type {\n",
       "        vertical-align: middle;\n",
       "    }\n",
       "\n",
       "    .dataframe tbody tr th {\n",
       "        vertical-align: top;\n",
       "    }\n",
       "\n",
       "    .dataframe thead th {\n",
       "        text-align: right;\n",
       "    }\n",
       "</style>\n",
       "<table border=\"1\" class=\"dataframe\">\n",
       "  <thead>\n",
       "    <tr style=\"text-align: right;\">\n",
       "      <th></th>\n",
       "      <th>Id</th>\n",
       "      <th>MSSubClass</th>\n",
       "      <th>MSZoning</th>\n",
       "      <th>LotFrontage</th>\n",
       "      <th>LotArea</th>\n",
       "      <th>Street</th>\n",
       "      <th>Alley</th>\n",
       "      <th>LotShape</th>\n",
       "      <th>LandContour</th>\n",
       "      <th>Utilities</th>\n",
       "      <th>...</th>\n",
       "      <th>PoolArea</th>\n",
       "      <th>PoolQC</th>\n",
       "      <th>Fence</th>\n",
       "      <th>MiscFeature</th>\n",
       "      <th>MiscVal</th>\n",
       "      <th>MoSold</th>\n",
       "      <th>YrSold</th>\n",
       "      <th>SaleType</th>\n",
       "      <th>SaleCondition</th>\n",
       "      <th>SalePrice</th>\n",
       "    </tr>\n",
       "  </thead>\n",
       "  <tbody>\n",
       "    <tr>\n",
       "      <th>0</th>\n",
       "      <td>1</td>\n",
       "      <td>60</td>\n",
       "      <td>RL</td>\n",
       "      <td>65.0</td>\n",
       "      <td>8450</td>\n",
       "      <td>Pave</td>\n",
       "      <td>NaN</td>\n",
       "      <td>Reg</td>\n",
       "      <td>Lvl</td>\n",
       "      <td>AllPub</td>\n",
       "      <td>...</td>\n",
       "      <td>0</td>\n",
       "      <td>NaN</td>\n",
       "      <td>NaN</td>\n",
       "      <td>NaN</td>\n",
       "      <td>0</td>\n",
       "      <td>2</td>\n",
       "      <td>2008</td>\n",
       "      <td>WD</td>\n",
       "      <td>Normal</td>\n",
       "      <td>208500</td>\n",
       "    </tr>\n",
       "    <tr>\n",
       "      <th>1</th>\n",
       "      <td>2</td>\n",
       "      <td>20</td>\n",
       "      <td>RL</td>\n",
       "      <td>80.0</td>\n",
       "      <td>9600</td>\n",
       "      <td>Pave</td>\n",
       "      <td>NaN</td>\n",
       "      <td>Reg</td>\n",
       "      <td>Lvl</td>\n",
       "      <td>AllPub</td>\n",
       "      <td>...</td>\n",
       "      <td>0</td>\n",
       "      <td>NaN</td>\n",
       "      <td>NaN</td>\n",
       "      <td>NaN</td>\n",
       "      <td>0</td>\n",
       "      <td>5</td>\n",
       "      <td>2007</td>\n",
       "      <td>WD</td>\n",
       "      <td>Normal</td>\n",
       "      <td>181500</td>\n",
       "    </tr>\n",
       "    <tr>\n",
       "      <th>2</th>\n",
       "      <td>3</td>\n",
       "      <td>60</td>\n",
       "      <td>RL</td>\n",
       "      <td>68.0</td>\n",
       "      <td>11250</td>\n",
       "      <td>Pave</td>\n",
       "      <td>NaN</td>\n",
       "      <td>IR1</td>\n",
       "      <td>Lvl</td>\n",
       "      <td>AllPub</td>\n",
       "      <td>...</td>\n",
       "      <td>0</td>\n",
       "      <td>NaN</td>\n",
       "      <td>NaN</td>\n",
       "      <td>NaN</td>\n",
       "      <td>0</td>\n",
       "      <td>9</td>\n",
       "      <td>2008</td>\n",
       "      <td>WD</td>\n",
       "      <td>Normal</td>\n",
       "      <td>223500</td>\n",
       "    </tr>\n",
       "    <tr>\n",
       "      <th>3</th>\n",
       "      <td>4</td>\n",
       "      <td>70</td>\n",
       "      <td>RL</td>\n",
       "      <td>60.0</td>\n",
       "      <td>9550</td>\n",
       "      <td>Pave</td>\n",
       "      <td>NaN</td>\n",
       "      <td>IR1</td>\n",
       "      <td>Lvl</td>\n",
       "      <td>AllPub</td>\n",
       "      <td>...</td>\n",
       "      <td>0</td>\n",
       "      <td>NaN</td>\n",
       "      <td>NaN</td>\n",
       "      <td>NaN</td>\n",
       "      <td>0</td>\n",
       "      <td>2</td>\n",
       "      <td>2006</td>\n",
       "      <td>WD</td>\n",
       "      <td>Abnorml</td>\n",
       "      <td>140000</td>\n",
       "    </tr>\n",
       "    <tr>\n",
       "      <th>4</th>\n",
       "      <td>5</td>\n",
       "      <td>60</td>\n",
       "      <td>RL</td>\n",
       "      <td>84.0</td>\n",
       "      <td>14260</td>\n",
       "      <td>Pave</td>\n",
       "      <td>NaN</td>\n",
       "      <td>IR1</td>\n",
       "      <td>Lvl</td>\n",
       "      <td>AllPub</td>\n",
       "      <td>...</td>\n",
       "      <td>0</td>\n",
       "      <td>NaN</td>\n",
       "      <td>NaN</td>\n",
       "      <td>NaN</td>\n",
       "      <td>0</td>\n",
       "      <td>12</td>\n",
       "      <td>2008</td>\n",
       "      <td>WD</td>\n",
       "      <td>Normal</td>\n",
       "      <td>250000</td>\n",
       "    </tr>\n",
       "  </tbody>\n",
       "</table>\n",
       "<p>5 rows × 81 columns</p>\n",
       "</div>"
      ],
      "text/plain": [
       "   Id  MSSubClass MSZoning  LotFrontage  LotArea Street Alley LotShape  \\\n",
       "0   1          60       RL         65.0     8450   Pave   NaN      Reg   \n",
       "1   2          20       RL         80.0     9600   Pave   NaN      Reg   \n",
       "2   3          60       RL         68.0    11250   Pave   NaN      IR1   \n",
       "3   4          70       RL         60.0     9550   Pave   NaN      IR1   \n",
       "4   5          60       RL         84.0    14260   Pave   NaN      IR1   \n",
       "\n",
       "  LandContour Utilities  ... PoolArea PoolQC Fence MiscFeature MiscVal MoSold  \\\n",
       "0         Lvl    AllPub  ...        0    NaN   NaN         NaN       0      2   \n",
       "1         Lvl    AllPub  ...        0    NaN   NaN         NaN       0      5   \n",
       "2         Lvl    AllPub  ...        0    NaN   NaN         NaN       0      9   \n",
       "3         Lvl    AllPub  ...        0    NaN   NaN         NaN       0      2   \n",
       "4         Lvl    AllPub  ...        0    NaN   NaN         NaN       0     12   \n",
       "\n",
       "  YrSold  SaleType  SaleCondition  SalePrice  \n",
       "0   2008        WD         Normal     208500  \n",
       "1   2007        WD         Normal     181500  \n",
       "2   2008        WD         Normal     223500  \n",
       "3   2006        WD        Abnorml     140000  \n",
       "4   2008        WD         Normal     250000  \n",
       "\n",
       "[5 rows x 81 columns]"
      ]
     },
     "execution_count": 3,
     "metadata": {},
     "output_type": "execute_result"
    }
   ],
   "source": [
    "# Head\n",
    "raw_data.head()"
   ]
  },
  {
   "cell_type": "code",
   "execution_count": 4,
   "id": "46fbfae2",
   "metadata": {
    "scrolled": true
   },
   "outputs": [
    {
     "data": {
      "text/plain": [
       "(1460, 81)"
      ]
     },
     "execution_count": 4,
     "metadata": {},
     "output_type": "execute_result"
    }
   ],
   "source": [
    "# Shape\n",
    "raw_data.shape"
   ]
  },
  {
   "cell_type": "code",
   "execution_count": 5,
   "id": "7d50b6d9",
   "metadata": {},
   "outputs": [
    {
     "name": "stdout",
     "output_type": "stream",
     "text": [
      "<class 'pandas.core.frame.DataFrame'>\n",
      "RangeIndex: 1460 entries, 0 to 1459\n",
      "Data columns (total 81 columns):\n",
      " #   Column         Non-Null Count  Dtype  \n",
      "---  ------         --------------  -----  \n",
      " 0   Id             1460 non-null   int64  \n",
      " 1   MSSubClass     1460 non-null   int64  \n",
      " 2   MSZoning       1460 non-null   object \n",
      " 3   LotFrontage    1201 non-null   float64\n",
      " 4   LotArea        1460 non-null   int64  \n",
      " 5   Street         1460 non-null   object \n",
      " 6   Alley          91 non-null     object \n",
      " 7   LotShape       1460 non-null   object \n",
      " 8   LandContour    1460 non-null   object \n",
      " 9   Utilities      1460 non-null   object \n",
      " 10  LotConfig      1460 non-null   object \n",
      " 11  LandSlope      1460 non-null   object \n",
      " 12  Neighborhood   1460 non-null   object \n",
      " 13  Condition1     1460 non-null   object \n",
      " 14  Condition2     1460 non-null   object \n",
      " 15  BldgType       1460 non-null   object \n",
      " 16  HouseStyle     1460 non-null   object \n",
      " 17  OverallQual    1460 non-null   int64  \n",
      " 18  OverallCond    1460 non-null   int64  \n",
      " 19  YearBuilt      1460 non-null   int64  \n",
      " 20  YearRemodAdd   1460 non-null   int64  \n",
      " 21  RoofStyle      1460 non-null   object \n",
      " 22  RoofMatl       1460 non-null   object \n",
      " 23  Exterior1st    1460 non-null   object \n",
      " 24  Exterior2nd    1460 non-null   object \n",
      " 25  MasVnrType     1452 non-null   object \n",
      " 26  MasVnrArea     1452 non-null   float64\n",
      " 27  ExterQual      1460 non-null   object \n",
      " 28  ExterCond      1460 non-null   object \n",
      " 29  Foundation     1460 non-null   object \n",
      " 30  BsmtQual       1423 non-null   object \n",
      " 31  BsmtCond       1423 non-null   object \n",
      " 32  BsmtExposure   1422 non-null   object \n",
      " 33  BsmtFinType1   1423 non-null   object \n",
      " 34  BsmtFinSF1     1460 non-null   int64  \n",
      " 35  BsmtFinType2   1422 non-null   object \n",
      " 36  BsmtFinSF2     1460 non-null   int64  \n",
      " 37  BsmtUnfSF      1460 non-null   int64  \n",
      " 38  TotalBsmtSF    1460 non-null   int64  \n",
      " 39  Heating        1460 non-null   object \n",
      " 40  HeatingQC      1460 non-null   object \n",
      " 41  CentralAir     1460 non-null   object \n",
      " 42  Electrical     1459 non-null   object \n",
      " 43  1stFlrSF       1460 non-null   int64  \n",
      " 44  2ndFlrSF       1460 non-null   int64  \n",
      " 45  LowQualFinSF   1460 non-null   int64  \n",
      " 46  GrLivArea      1460 non-null   int64  \n",
      " 47  BsmtFullBath   1460 non-null   int64  \n",
      " 48  BsmtHalfBath   1460 non-null   int64  \n",
      " 49  FullBath       1460 non-null   int64  \n",
      " 50  HalfBath       1460 non-null   int64  \n",
      " 51  BedroomAbvGr   1460 non-null   int64  \n",
      " 52  KitchenAbvGr   1460 non-null   int64  \n",
      " 53  KitchenQual    1460 non-null   object \n",
      " 54  TotRmsAbvGrd   1460 non-null   int64  \n",
      " 55  Functional     1460 non-null   object \n",
      " 56  Fireplaces     1460 non-null   int64  \n",
      " 57  FireplaceQu    770 non-null    object \n",
      " 58  GarageType     1379 non-null   object \n",
      " 59  GarageYrBlt    1379 non-null   float64\n",
      " 60  GarageFinish   1379 non-null   object \n",
      " 61  GarageCars     1460 non-null   int64  \n",
      " 62  GarageArea     1460 non-null   int64  \n",
      " 63  GarageQual     1379 non-null   object \n",
      " 64  GarageCond     1379 non-null   object \n",
      " 65  PavedDrive     1460 non-null   object \n",
      " 66  WoodDeckSF     1460 non-null   int64  \n",
      " 67  OpenPorchSF    1460 non-null   int64  \n",
      " 68  EnclosedPorch  1460 non-null   int64  \n",
      " 69  3SsnPorch      1460 non-null   int64  \n",
      " 70  ScreenPorch    1460 non-null   int64  \n",
      " 71  PoolArea       1460 non-null   int64  \n",
      " 72  PoolQC         7 non-null      object \n",
      " 73  Fence          281 non-null    object \n",
      " 74  MiscFeature    54 non-null     object \n",
      " 75  MiscVal        1460 non-null   int64  \n",
      " 76  MoSold         1460 non-null   int64  \n",
      " 77  YrSold         1460 non-null   int64  \n",
      " 78  SaleType       1460 non-null   object \n",
      " 79  SaleCondition  1460 non-null   object \n",
      " 80  SalePrice      1460 non-null   int64  \n",
      "dtypes: float64(3), int64(35), object(43)\n",
      "memory usage: 924.0+ KB\n"
     ]
    }
   ],
   "source": [
    "# Info\n",
    "raw_data.info()"
   ]
  },
  {
   "cell_type": "markdown",
   "id": "e1d85f0a",
   "metadata": {},
   "source": [
    "We can clearly see that we have some variables that have missing values."
   ]
  },
  {
   "cell_type": "markdown",
   "id": "14b4a0b0",
   "metadata": {},
   "source": [
    " "
   ]
  },
  {
   "cell_type": "markdown",
   "id": "23d73f4e",
   "metadata": {},
   "source": [
    " "
   ]
  },
  {
   "cell_type": "markdown",
   "id": "fe2c64fc",
   "metadata": {},
   "source": [
    "## EAD"
   ]
  },
  {
   "cell_type": "code",
   "execution_count": 6,
   "id": "779fc1d3",
   "metadata": {},
   "outputs": [],
   "source": [
    "# Copy of the raw data \n",
    "eda_data = raw_data.copy(deep=True)"
   ]
  },
  {
   "cell_type": "markdown",
   "id": "b559f24f",
   "metadata": {},
   "source": [
    "### Missing values"
   ]
  },
  {
   "cell_type": "code",
   "execution_count": 7,
   "id": "52218c4d",
   "metadata": {},
   "outputs": [],
   "source": [
    "# Function to get missing value info\n",
    "def get_missing_info(df):\n",
    "    miss_val = 100*df.isnull().sum()/df.shape[0]\n",
    "    miss_val = pd.DataFrame(miss_val[miss_val>0].sort_values(ascending=False),columns=['Missing %'])\n",
    "    miss_val['Dtype'] = df[miss_val.index].dtypes.values\n",
    "    return miss_val"
   ]
  },
  {
   "cell_type": "code",
   "execution_count": 8,
   "id": "31d7bdd1",
   "metadata": {},
   "outputs": [
    {
     "data": {
      "text/html": [
       "<div>\n",
       "<style scoped>\n",
       "    .dataframe tbody tr th:only-of-type {\n",
       "        vertical-align: middle;\n",
       "    }\n",
       "\n",
       "    .dataframe tbody tr th {\n",
       "        vertical-align: top;\n",
       "    }\n",
       "\n",
       "    .dataframe thead th {\n",
       "        text-align: right;\n",
       "    }\n",
       "</style>\n",
       "<table border=\"1\" class=\"dataframe\">\n",
       "  <thead>\n",
       "    <tr style=\"text-align: right;\">\n",
       "      <th></th>\n",
       "      <th>Missing %</th>\n",
       "      <th>Dtype</th>\n",
       "    </tr>\n",
       "  </thead>\n",
       "  <tbody>\n",
       "    <tr>\n",
       "      <th>PoolQC</th>\n",
       "      <td>99.520548</td>\n",
       "      <td>object</td>\n",
       "    </tr>\n",
       "    <tr>\n",
       "      <th>MiscFeature</th>\n",
       "      <td>96.301370</td>\n",
       "      <td>object</td>\n",
       "    </tr>\n",
       "    <tr>\n",
       "      <th>Alley</th>\n",
       "      <td>93.767123</td>\n",
       "      <td>object</td>\n",
       "    </tr>\n",
       "    <tr>\n",
       "      <th>Fence</th>\n",
       "      <td>80.753425</td>\n",
       "      <td>object</td>\n",
       "    </tr>\n",
       "    <tr>\n",
       "      <th>FireplaceQu</th>\n",
       "      <td>47.260274</td>\n",
       "      <td>object</td>\n",
       "    </tr>\n",
       "    <tr>\n",
       "      <th>LotFrontage</th>\n",
       "      <td>17.739726</td>\n",
       "      <td>float64</td>\n",
       "    </tr>\n",
       "    <tr>\n",
       "      <th>GarageType</th>\n",
       "      <td>5.547945</td>\n",
       "      <td>object</td>\n",
       "    </tr>\n",
       "    <tr>\n",
       "      <th>GarageYrBlt</th>\n",
       "      <td>5.547945</td>\n",
       "      <td>float64</td>\n",
       "    </tr>\n",
       "    <tr>\n",
       "      <th>GarageFinish</th>\n",
       "      <td>5.547945</td>\n",
       "      <td>object</td>\n",
       "    </tr>\n",
       "    <tr>\n",
       "      <th>GarageQual</th>\n",
       "      <td>5.547945</td>\n",
       "      <td>object</td>\n",
       "    </tr>\n",
       "    <tr>\n",
       "      <th>GarageCond</th>\n",
       "      <td>5.547945</td>\n",
       "      <td>object</td>\n",
       "    </tr>\n",
       "    <tr>\n",
       "      <th>BsmtExposure</th>\n",
       "      <td>2.602740</td>\n",
       "      <td>object</td>\n",
       "    </tr>\n",
       "    <tr>\n",
       "      <th>BsmtFinType2</th>\n",
       "      <td>2.602740</td>\n",
       "      <td>object</td>\n",
       "    </tr>\n",
       "    <tr>\n",
       "      <th>BsmtFinType1</th>\n",
       "      <td>2.534247</td>\n",
       "      <td>object</td>\n",
       "    </tr>\n",
       "    <tr>\n",
       "      <th>BsmtCond</th>\n",
       "      <td>2.534247</td>\n",
       "      <td>object</td>\n",
       "    </tr>\n",
       "    <tr>\n",
       "      <th>BsmtQual</th>\n",
       "      <td>2.534247</td>\n",
       "      <td>object</td>\n",
       "    </tr>\n",
       "    <tr>\n",
       "      <th>MasVnrArea</th>\n",
       "      <td>0.547945</td>\n",
       "      <td>float64</td>\n",
       "    </tr>\n",
       "    <tr>\n",
       "      <th>MasVnrType</th>\n",
       "      <td>0.547945</td>\n",
       "      <td>object</td>\n",
       "    </tr>\n",
       "    <tr>\n",
       "      <th>Electrical</th>\n",
       "      <td>0.068493</td>\n",
       "      <td>object</td>\n",
       "    </tr>\n",
       "  </tbody>\n",
       "</table>\n",
       "</div>"
      ],
      "text/plain": [
       "              Missing %    Dtype\n",
       "PoolQC        99.520548   object\n",
       "MiscFeature   96.301370   object\n",
       "Alley         93.767123   object\n",
       "Fence         80.753425   object\n",
       "FireplaceQu   47.260274   object\n",
       "LotFrontage   17.739726  float64\n",
       "GarageType     5.547945   object\n",
       "GarageYrBlt    5.547945  float64\n",
       "GarageFinish   5.547945   object\n",
       "GarageQual     5.547945   object\n",
       "GarageCond     5.547945   object\n",
       "BsmtExposure   2.602740   object\n",
       "BsmtFinType2   2.602740   object\n",
       "BsmtFinType1   2.534247   object\n",
       "BsmtCond       2.534247   object\n",
       "BsmtQual       2.534247   object\n",
       "MasVnrArea     0.547945  float64\n",
       "MasVnrType     0.547945   object\n",
       "Electrical     0.068493   object"
      ]
     },
     "execution_count": 8,
     "metadata": {},
     "output_type": "execute_result"
    }
   ],
   "source": [
    "# Missing Values\n",
    "missing_values = get_missing_info(eda_data)\n",
    "missing_values"
   ]
  },
  {
   "cell_type": "markdown",
   "id": "93598e45",
   "metadata": {},
   "source": [
    "- Here we can see that the variable **`PoolQC`**, **`MiscFeatures`**, **`Alley`**, **`Fence`** and **`FireplaceQC`** have a lot of missing values but these values represent that a particular feature is missing because these features are not present in a particular data point(House), i.e. most of the houses in this data set do not have a pool and therefour, Pool Quality has no rating (null value). We drop these columns as even if we replace these null values with appropriate values (that represent that the particular feature is not present), it would make these values skewed and would affect the model adversely."
   ]
  },
  {
   "cell_type": "code",
   "execution_count": 9,
   "id": "649243c1",
   "metadata": {},
   "outputs": [
    {
     "data": {
      "text/html": [
       "<div>\n",
       "<style scoped>\n",
       "    .dataframe tbody tr th:only-of-type {\n",
       "        vertical-align: middle;\n",
       "    }\n",
       "\n",
       "    .dataframe tbody tr th {\n",
       "        vertical-align: top;\n",
       "    }\n",
       "\n",
       "    .dataframe thead th {\n",
       "        text-align: right;\n",
       "    }\n",
       "</style>\n",
       "<table border=\"1\" class=\"dataframe\">\n",
       "  <thead>\n",
       "    <tr style=\"text-align: right;\">\n",
       "      <th></th>\n",
       "      <th>Missing %</th>\n",
       "      <th>Dtype</th>\n",
       "    </tr>\n",
       "  </thead>\n",
       "  <tbody>\n",
       "    <tr>\n",
       "      <th>LotFrontage</th>\n",
       "      <td>17.739726</td>\n",
       "      <td>float64</td>\n",
       "    </tr>\n",
       "    <tr>\n",
       "      <th>GarageType</th>\n",
       "      <td>5.547945</td>\n",
       "      <td>object</td>\n",
       "    </tr>\n",
       "    <tr>\n",
       "      <th>GarageYrBlt</th>\n",
       "      <td>5.547945</td>\n",
       "      <td>float64</td>\n",
       "    </tr>\n",
       "    <tr>\n",
       "      <th>GarageFinish</th>\n",
       "      <td>5.547945</td>\n",
       "      <td>object</td>\n",
       "    </tr>\n",
       "    <tr>\n",
       "      <th>GarageQual</th>\n",
       "      <td>5.547945</td>\n",
       "      <td>object</td>\n",
       "    </tr>\n",
       "    <tr>\n",
       "      <th>GarageCond</th>\n",
       "      <td>5.547945</td>\n",
       "      <td>object</td>\n",
       "    </tr>\n",
       "    <tr>\n",
       "      <th>BsmtExposure</th>\n",
       "      <td>2.602740</td>\n",
       "      <td>object</td>\n",
       "    </tr>\n",
       "    <tr>\n",
       "      <th>BsmtFinType2</th>\n",
       "      <td>2.602740</td>\n",
       "      <td>object</td>\n",
       "    </tr>\n",
       "    <tr>\n",
       "      <th>BsmtQual</th>\n",
       "      <td>2.534247</td>\n",
       "      <td>object</td>\n",
       "    </tr>\n",
       "    <tr>\n",
       "      <th>BsmtCond</th>\n",
       "      <td>2.534247</td>\n",
       "      <td>object</td>\n",
       "    </tr>\n",
       "    <tr>\n",
       "      <th>BsmtFinType1</th>\n",
       "      <td>2.534247</td>\n",
       "      <td>object</td>\n",
       "    </tr>\n",
       "    <tr>\n",
       "      <th>MasVnrType</th>\n",
       "      <td>0.547945</td>\n",
       "      <td>object</td>\n",
       "    </tr>\n",
       "    <tr>\n",
       "      <th>MasVnrArea</th>\n",
       "      <td>0.547945</td>\n",
       "      <td>float64</td>\n",
       "    </tr>\n",
       "    <tr>\n",
       "      <th>Electrical</th>\n",
       "      <td>0.068493</td>\n",
       "      <td>object</td>\n",
       "    </tr>\n",
       "  </tbody>\n",
       "</table>\n",
       "</div>"
      ],
      "text/plain": [
       "              Missing %    Dtype\n",
       "LotFrontage   17.739726  float64\n",
       "GarageType     5.547945   object\n",
       "GarageYrBlt    5.547945  float64\n",
       "GarageFinish   5.547945   object\n",
       "GarageQual     5.547945   object\n",
       "GarageCond     5.547945   object\n",
       "BsmtExposure   2.602740   object\n",
       "BsmtFinType2   2.602740   object\n",
       "BsmtQual       2.534247   object\n",
       "BsmtCond       2.534247   object\n",
       "BsmtFinType1   2.534247   object\n",
       "MasVnrType     0.547945   object\n",
       "MasVnrArea     0.547945  float64\n",
       "Electrical     0.068493   object"
      ]
     },
     "execution_count": 9,
     "metadata": {},
     "output_type": "execute_result"
    }
   ],
   "source": [
    "# Droping columns\n",
    "eda_data.drop(missing_values.index[:5],axis=1,inplace=True)\n",
    "\n",
    "# Geting missing values after droping the columns\n",
    "missing_values = get_missing_info(eda_data)\n",
    "\n",
    "# Missing values left to be handeled\n",
    "missing_values"
   ]
  },
  {
   "cell_type": "markdown",
   "id": "b78022fb",
   "metadata": {},
   "source": [
    "- We have to find an appropriate method to replace null values in the variable **`LotFrontage`**."
   ]
  },
  {
   "cell_type": "markdown",
   "id": "2c0230b0",
   "metadata": {},
   "source": [
    "###### Finding appropriate values to replace null values in the **`LotFrontage`** feature"
   ]
  },
  {
   "cell_type": "markdown",
   "id": "06136776",
   "metadata": {},
   "source": [
    "In simple terms **`LotFrontage`** it is the measurement of the length of a plot of land or a building facing the main road on to which the plot or building fronts, therefour we can replace the null values in this columns with the **Median Lot Frontage in the Neighborhood**."
   ]
  },
  {
   "cell_type": "markdown",
   "id": "b3961f81",
   "metadata": {},
   "source": [
    " "
   ]
  },
  {
   "cell_type": "code",
   "execution_count": 10,
   "id": "fc0778f3",
   "metadata": {},
   "outputs": [
    {
     "data": {
      "text/plain": [
       "Neighborhood\n",
       "Blmngtn    43.0\n",
       "Blueste    24.0\n",
       "BrDale     21.0\n",
       "BrkSide    52.0\n",
       "ClearCr    80.0\n",
       "CollgCr    70.0\n",
       "Crawfor    74.0\n",
       "Edwards    65.5\n",
       "Gilbert    65.0\n",
       "IDOTRR     60.0\n",
       "MeadowV    21.0\n",
       "Mitchel    73.0\n",
       "NAmes      73.0\n",
       "NPkVill    24.0\n",
       "NWAmes     80.0\n",
       "NoRidge    91.0\n",
       "NridgHt    88.5\n",
       "OldTown    60.0\n",
       "SWISU      60.0\n",
       "Sawyer     71.0\n",
       "SawyerW    66.5\n",
       "Somerst    73.5\n",
       "StoneBr    61.5\n",
       "Timber     85.0\n",
       "Veenker    68.0\n",
       "Name: LotFrontage, dtype: float64"
      ]
     },
     "execution_count": 10,
     "metadata": {},
     "output_type": "execute_result"
    }
   ],
   "source": [
    "replace_val = eda_data.groupby(by = 'Neighborhood')['LotFrontage'].median()\n",
    "replace_val"
   ]
  },
  {
   "cell_type": "code",
   "execution_count": 11,
   "id": "8632e6f5",
   "metadata": {},
   "outputs": [],
   "source": [
    "# Replacing LotFrontage \n",
    "eda_data['LotFrontage'] = eda_data.groupby('Neighborhood')['LotFrontage'].transform(lambda x: x.fillna(x.median()))"
   ]
  },
  {
   "cell_type": "code",
   "execution_count": 12,
   "id": "1ac2bcc8",
   "metadata": {},
   "outputs": [
    {
     "data": {
      "text/html": [
       "<div>\n",
       "<style scoped>\n",
       "    .dataframe tbody tr th:only-of-type {\n",
       "        vertical-align: middle;\n",
       "    }\n",
       "\n",
       "    .dataframe tbody tr th {\n",
       "        vertical-align: top;\n",
       "    }\n",
       "\n",
       "    .dataframe thead th {\n",
       "        text-align: right;\n",
       "    }\n",
       "</style>\n",
       "<table border=\"1\" class=\"dataframe\">\n",
       "  <thead>\n",
       "    <tr style=\"text-align: right;\">\n",
       "      <th></th>\n",
       "      <th>Missing %</th>\n",
       "      <th>Dtype</th>\n",
       "    </tr>\n",
       "  </thead>\n",
       "  <tbody>\n",
       "    <tr>\n",
       "      <th>GarageType</th>\n",
       "      <td>5.547945</td>\n",
       "      <td>object</td>\n",
       "    </tr>\n",
       "    <tr>\n",
       "      <th>GarageYrBlt</th>\n",
       "      <td>5.547945</td>\n",
       "      <td>float64</td>\n",
       "    </tr>\n",
       "    <tr>\n",
       "      <th>GarageFinish</th>\n",
       "      <td>5.547945</td>\n",
       "      <td>object</td>\n",
       "    </tr>\n",
       "    <tr>\n",
       "      <th>GarageQual</th>\n",
       "      <td>5.547945</td>\n",
       "      <td>object</td>\n",
       "    </tr>\n",
       "    <tr>\n",
       "      <th>GarageCond</th>\n",
       "      <td>5.547945</td>\n",
       "      <td>object</td>\n",
       "    </tr>\n",
       "    <tr>\n",
       "      <th>BsmtExposure</th>\n",
       "      <td>2.602740</td>\n",
       "      <td>object</td>\n",
       "    </tr>\n",
       "    <tr>\n",
       "      <th>BsmtFinType2</th>\n",
       "      <td>2.602740</td>\n",
       "      <td>object</td>\n",
       "    </tr>\n",
       "    <tr>\n",
       "      <th>BsmtQual</th>\n",
       "      <td>2.534247</td>\n",
       "      <td>object</td>\n",
       "    </tr>\n",
       "    <tr>\n",
       "      <th>BsmtCond</th>\n",
       "      <td>2.534247</td>\n",
       "      <td>object</td>\n",
       "    </tr>\n",
       "    <tr>\n",
       "      <th>BsmtFinType1</th>\n",
       "      <td>2.534247</td>\n",
       "      <td>object</td>\n",
       "    </tr>\n",
       "    <tr>\n",
       "      <th>MasVnrType</th>\n",
       "      <td>0.547945</td>\n",
       "      <td>object</td>\n",
       "    </tr>\n",
       "    <tr>\n",
       "      <th>MasVnrArea</th>\n",
       "      <td>0.547945</td>\n",
       "      <td>float64</td>\n",
       "    </tr>\n",
       "    <tr>\n",
       "      <th>Electrical</th>\n",
       "      <td>0.068493</td>\n",
       "      <td>object</td>\n",
       "    </tr>\n",
       "  </tbody>\n",
       "</table>\n",
       "</div>"
      ],
      "text/plain": [
       "              Missing %    Dtype\n",
       "GarageType     5.547945   object\n",
       "GarageYrBlt    5.547945  float64\n",
       "GarageFinish   5.547945   object\n",
       "GarageQual     5.547945   object\n",
       "GarageCond     5.547945   object\n",
       "BsmtExposure   2.602740   object\n",
       "BsmtFinType2   2.602740   object\n",
       "BsmtQual       2.534247   object\n",
       "BsmtCond       2.534247   object\n",
       "BsmtFinType1   2.534247   object\n",
       "MasVnrType     0.547945   object\n",
       "MasVnrArea     0.547945  float64\n",
       "Electrical     0.068493   object"
      ]
     },
     "execution_count": 12,
     "metadata": {},
     "output_type": "execute_result"
    }
   ],
   "source": [
    "# Checking missing values again\n",
    "missing_values = get_missing_info(eda_data)\n",
    "missing_values"
   ]
  },
  {
   "cell_type": "code",
   "execution_count": 13,
   "id": "1d95e74f",
   "metadata": {},
   "outputs": [],
   "source": [
    "# Getting all the columns related yo garage which have missing values\n",
    "missing_garage_val = missing_values.index[eda_data[missing_values.index].columns.str.contains('^Garage',regex=True)]"
   ]
  },
  {
   "cell_type": "code",
   "execution_count": 14,
   "id": "4df60049",
   "metadata": {
    "scrolled": false
   },
   "outputs": [
    {
     "name": "stdout",
     "output_type": "stream",
     "text": [
      "GarageType\n",
      "Attchd     870\n",
      "Detchd     387\n",
      "BuiltIn     88\n",
      "NaN         81\n",
      "Basment     19\n",
      "CarPort      9\n",
      "2Types       6\n",
      "Name: GarageType, dtype: int64\n",
      "\n",
      "\n",
      "GarageYrBlt\n",
      "NaN       81\n",
      "2005.0    65\n",
      "2006.0    59\n",
      "2004.0    53\n",
      "2003.0    50\n",
      "          ..\n",
      "1906.0     1\n",
      "1908.0     1\n",
      "1933.0     1\n",
      "1900.0     1\n",
      "1927.0     1\n",
      "Name: GarageYrBlt, Length: 98, dtype: int64\n",
      "\n",
      "\n",
      "GarageFinish\n",
      "Unf    605\n",
      "RFn    422\n",
      "Fin    352\n",
      "NaN     81\n",
      "Name: GarageFinish, dtype: int64\n",
      "\n",
      "\n",
      "GarageQual\n",
      "TA     1311\n",
      "NaN      81\n",
      "Fa       48\n",
      "Gd       14\n",
      "Po        3\n",
      "Ex        3\n",
      "Name: GarageQual, dtype: int64\n",
      "\n",
      "\n",
      "GarageCond\n",
      "TA     1326\n",
      "NaN      81\n",
      "Fa       35\n",
      "Gd        9\n",
      "Po        7\n",
      "Ex        2\n",
      "Name: GarageCond, dtype: int64\n",
      "\n",
      "\n",
      "BsmtExposure\n",
      "No     953\n",
      "Av     221\n",
      "Gd     134\n",
      "Mn     114\n",
      "NaN     38\n",
      "Name: BsmtExposure, dtype: int64\n",
      "\n",
      "\n",
      "BsmtFinType2\n",
      "Unf    1256\n",
      "Rec      54\n",
      "LwQ      46\n",
      "NaN      38\n",
      "BLQ      33\n",
      "ALQ      19\n",
      "GLQ      14\n",
      "Name: BsmtFinType2, dtype: int64\n",
      "\n",
      "\n",
      "BsmtQual\n",
      "TA     649\n",
      "Gd     618\n",
      "Ex     121\n",
      "NaN     37\n",
      "Fa      35\n",
      "Name: BsmtQual, dtype: int64\n",
      "\n",
      "\n",
      "BsmtCond\n",
      "TA     1311\n",
      "Gd       65\n",
      "Fa       45\n",
      "NaN      37\n",
      "Po        2\n",
      "Name: BsmtCond, dtype: int64\n",
      "\n",
      "\n",
      "BsmtFinType1\n",
      "Unf    430\n",
      "GLQ    418\n",
      "ALQ    220\n",
      "BLQ    148\n",
      "Rec    133\n",
      "LwQ     74\n",
      "NaN     37\n",
      "Name: BsmtFinType1, dtype: int64\n",
      "\n",
      "\n",
      "MasVnrType\n",
      "None       864\n",
      "BrkFace    445\n",
      "Stone      128\n",
      "BrkCmn      15\n",
      "NaN          8\n",
      "Name: MasVnrType, dtype: int64\n",
      "\n",
      "\n",
      "MasVnrArea\n",
      "0.0      861\n",
      "72.0       8\n",
      "180.0      8\n",
      "108.0      8\n",
      "NaN        8\n",
      "        ... \n",
      "388.0      1\n",
      "426.0      1\n",
      "653.0      1\n",
      "796.0      1\n",
      "415.0      1\n",
      "Name: MasVnrArea, Length: 328, dtype: int64\n",
      "\n",
      "\n",
      "Electrical\n",
      "SBrkr    1334\n",
      "FuseA      94\n",
      "FuseF      27\n",
      "FuseP       3\n",
      "NaN         1\n",
      "Mix         1\n",
      "Name: Electrical, dtype: int64\n",
      "\n",
      "\n"
     ]
    }
   ],
   "source": [
    "# Checking Skewness\n",
    "\n",
    "for i in missing_values.index:\n",
    "    print(i)\n",
    "    print(eda_data[i].value_counts(dropna=False),end='\\n\\n\\n')"
   ]
  },
  {
   "cell_type": "markdown",
   "id": "e47bb9c2",
   "metadata": {},
   "source": [
    "We can clearly see that replacing values in these columns would make them heavely skewed which would effect the model adversely, therefore we will drop these features."
   ]
  },
  {
   "cell_type": "code",
   "execution_count": 15,
   "id": "bb178341",
   "metadata": {},
   "outputs": [
    {
     "data": {
      "image/png": "[encoded data removed]",
      "text/plain": [
       "<Figure size 576x360 with 2 Axes>"
      ]
     },
     "metadata": {
      "needs_background": "light"
     },
     "output_type": "display_data"
    }
   ],
   "source": [
    "# Heat map\n",
    "plt.figure(figsize=(8,5))\n",
    "sns.heatmap(eda_data[['SalePrice','YearBuilt','GarageYrBlt']].corr(),annot=True)\n",
    "plt.show()"
   ]
  },
  {
   "cell_type": "markdown",
   "id": "b18cc69c",
   "metadata": {},
   "source": [
    "We can also see that the variable `YearBuilt` and `GarageYrBlt` are are highly correlated, we drop `GarageYrBlt` as it has a weeker linear relationship with the Target Variable."
   ]
  },
  {
   "cell_type": "code",
   "execution_count": 16,
   "id": "65457e29",
   "metadata": {},
   "outputs": [],
   "source": [
    "eda_data.drop(missing_values.index,axis=1,inplace=True)"
   ]
  },
  {
   "cell_type": "code",
   "execution_count": 17,
   "id": "2d19d84d",
   "metadata": {},
   "outputs": [
    {
     "data": {
      "text/html": [
       "<div>\n",
       "<style scoped>\n",
       "    .dataframe tbody tr th:only-of-type {\n",
       "        vertical-align: middle;\n",
       "    }\n",
       "\n",
       "    .dataframe tbody tr th {\n",
       "        vertical-align: top;\n",
       "    }\n",
       "\n",
       "    .dataframe thead th {\n",
       "        text-align: right;\n",
       "    }\n",
       "</style>\n",
       "<table border=\"1\" class=\"dataframe\">\n",
       "  <thead>\n",
       "    <tr style=\"text-align: right;\">\n",
       "      <th></th>\n",
       "      <th>Missing %</th>\n",
       "      <th>Dtype</th>\n",
       "    </tr>\n",
       "  </thead>\n",
       "  <tbody>\n",
       "  </tbody>\n",
       "</table>\n",
       "</div>"
      ],
      "text/plain": [
       "Empty DataFrame\n",
       "Columns: [Missing %, Dtype]\n",
       "Index: []"
      ]
     },
     "execution_count": 17,
     "metadata": {},
     "output_type": "execute_result"
    }
   ],
   "source": [
    "missing_values = get_missing_info(eda_data)\n",
    "\n",
    "missing_values"
   ]
  },
  {
   "cell_type": "markdown",
   "id": "c78f948c",
   "metadata": {},
   "source": [
    "We can see that there are no missing values left to be handled."
   ]
  },
  {
   "cell_type": "code",
   "execution_count": 18,
   "id": "49e2e94e",
   "metadata": {},
   "outputs": [
    {
     "data": {
      "image/png": "[encoded data removed]",
      "text/plain": [
       "<Figure size 576x432 with 1 Axes>"
      ]
     },
     "metadata": {
      "needs_background": "light"
     },
     "output_type": "display_data"
    }
   ],
   "source": [
    "plt.figure(figsize=(8,6))\n",
    "sns.scatterplot(x=eda_data['YearBuilt'],y=eda_data['SalePrice'])\n",
    "plt.show()"
   ]
  },
  {
   "cell_type": "markdown",
   "id": "977a9af6",
   "metadata": {},
   "source": [
    "We can see that there is som sort of linear relationship between `YearBuilt` and `SalePrice`, we can derive the age of the house using the `YearBuilt` variable."
   ]
  },
  {
   "cell_type": "code",
   "execution_count": 19,
   "id": "8b7e64f1",
   "metadata": {},
   "outputs": [],
   "source": [
    "eda_data['HouseAge'] = eda_data['YrSold'] - eda_data['YearBuilt']\n",
    "\n",
    "eda_data['AgeRemodel'] = eda_data['YrSold'] - eda_data['YearRemodAdd']"
   ]
  },
  {
   "cell_type": "code",
   "execution_count": 20,
   "id": "578edc28",
   "metadata": {},
   "outputs": [
    {
     "data": {
      "image/png": "[encoded data removed]",
      "text/plain": [
       "<Figure size 576x432 with 1 Axes>"
      ]
     },
     "metadata": {
      "needs_background": "light"
     },
     "output_type": "display_data"
    }
   ],
   "source": [
    "plt.figure(figsize=(8,6))\n",
    "sns.scatterplot(x=eda_data['HouseAge'],y=eda_data['SalePrice'])\n",
    "plt.show()"
   ]
  },
  {
   "cell_type": "markdown",
   "id": "6771ad9c",
   "metadata": {},
   "source": [
    "Here we can clearly see that as the age of the house increases the price decreases."
   ]
  },
  {
   "cell_type": "code",
   "execution_count": 21,
   "id": "2dda2f74",
   "metadata": {},
   "outputs": [
    {
     "data": {
      "image/png": "[encoded data removed]",
      "text/plain": [
       "<Figure size 576x432 with 1 Axes>"
      ]
     },
     "metadata": {
      "needs_background": "light"
     },
     "output_type": "display_data"
    }
   ],
   "source": [
    "plt.figure(figsize=(8,6))\n",
    "sns.scatterplot(x=eda_data['AgeRemodel'],y=eda_data['SalePrice'])\n",
    "plt.show()"
   ]
  },
  {
   "cell_type": "code",
   "execution_count": 22,
   "id": "048b08aa",
   "metadata": {},
   "outputs": [],
   "source": [
    "eda_data.drop(['YearBuilt','YrSold','YearRemodAdd'],axis=1,inplace=True)"
   ]
  },
  {
   "cell_type": "code",
   "execution_count": 23,
   "id": "d0899e99",
   "metadata": {},
   "outputs": [
    {
     "name": "stdout",
     "output_type": "stream",
     "text": [
      "<class 'pandas.core.frame.DataFrame'>\n",
      "RangeIndex: 1460 entries, 0 to 1459\n",
      "Data columns (total 35 columns):\n",
      " #   Column         Non-Null Count  Dtype  \n",
      "---  ------         --------------  -----  \n",
      " 0   Id             1460 non-null   int64  \n",
      " 1   MSSubClass     1460 non-null   int64  \n",
      " 2   LotFrontage    1460 non-null   float64\n",
      " 3   LotArea        1460 non-null   int64  \n",
      " 4   OverallQual    1460 non-null   int64  \n",
      " 5   OverallCond    1460 non-null   int64  \n",
      " 6   BsmtFinSF1     1460 non-null   int64  \n",
      " 7   BsmtFinSF2     1460 non-null   int64  \n",
      " 8   BsmtUnfSF      1460 non-null   int64  \n",
      " 9   TotalBsmtSF    1460 non-null   int64  \n",
      " 10  1stFlrSF       1460 non-null   int64  \n",
      " 11  2ndFlrSF       1460 non-null   int64  \n",
      " 12  LowQualFinSF   1460 non-null   int64  \n",
      " 13  GrLivArea      1460 non-null   int64  \n",
      " 14  BsmtFullBath   1460 non-null   int64  \n",
      " 15  BsmtHalfBath   1460 non-null   int64  \n",
      " 16  FullBath       1460 non-null   int64  \n",
      " 17  HalfBath       1460 non-null   int64  \n",
      " 18  BedroomAbvGr   1460 non-null   int64  \n",
      " 19  KitchenAbvGr   1460 non-null   int64  \n",
      " 20  TotRmsAbvGrd   1460 non-null   int64  \n",
      " 21  Fireplaces     1460 non-null   int64  \n",
      " 22  GarageCars     1460 non-null   int64  \n",
      " 23  GarageArea     1460 non-null   int64  \n",
      " 24  WoodDeckSF     1460 non-null   int64  \n",
      " 25  OpenPorchSF    1460 non-null   int64  \n",
      " 26  EnclosedPorch  1460 non-null   int64  \n",
      " 27  3SsnPorch      1460 non-null   int64  \n",
      " 28  ScreenPorch    1460 non-null   int64  \n",
      " 29  PoolArea       1460 non-null   int64  \n",
      " 30  MiscVal        1460 non-null   int64  \n",
      " 31  MoSold         1460 non-null   int64  \n",
      " 32  SalePrice      1460 non-null   int64  \n",
      " 33  HouseAge       1460 non-null   int64  \n",
      " 34  AgeRemodel     1460 non-null   int64  \n",
      "dtypes: float64(1), int64(34)\n",
      "memory usage: 399.3 KB\n"
     ]
    }
   ],
   "source": [
    "eda_data.select_dtypes('number').info()"
   ]
  },
  {
   "cell_type": "markdown",
   "id": "ab0d5c2d",
   "metadata": {},
   "source": [
    "- We do not need the `Id` varable,\n",
    "- The variable `MSSubClass`, according to the data discription given by the client, is actually a categorical variable."
   ]
  },
  {
   "cell_type": "code",
   "execution_count": 24,
   "id": "c5155908",
   "metadata": {},
   "outputs": [],
   "source": [
    "eda_data.drop('Id',axis=1,inplace=True)"
   ]
  },
  {
   "cell_type": "code",
   "execution_count": 25,
   "id": "7315a542",
   "metadata": {},
   "outputs": [],
   "source": [
    "eda_data['MSSubClass'] = eda_data['MSSubClass'].astype('object')"
   ]
  },
  {
   "cell_type": "code",
   "execution_count": 26,
   "id": "a93af548",
   "metadata": {},
   "outputs": [
    {
     "data": {
      "text/plain": [
       "(1460, 61)"
      ]
     },
     "execution_count": 26,
     "metadata": {},
     "output_type": "execute_result"
    }
   ],
   "source": [
    "eda_data.shape"
   ]
  },
  {
   "cell_type": "markdown",
   "id": "a0faa65f",
   "metadata": {},
   "source": [
    " "
   ]
  },
  {
   "cell_type": "markdown",
   "id": "25612a7d",
   "metadata": {},
   "source": [
    "#### Categorical to Numeric variable transformation"
   ]
  },
  {
   "cell_type": "code",
   "execution_count": 27,
   "id": "a10fba21",
   "metadata": {},
   "outputs": [],
   "source": [
    "categorical_variable = eda_data.select_dtypes('object')"
   ]
  },
  {
   "cell_type": "code",
   "execution_count": 28,
   "id": "70d64ddc",
   "metadata": {},
   "outputs": [
    {
     "data": {
      "text/plain": [
       "(1460, 28)"
      ]
     },
     "execution_count": 28,
     "metadata": {},
     "output_type": "execute_result"
    }
   ],
   "source": [
    "categorical_variable.shape"
   ]
  },
  {
   "cell_type": "code",
   "execution_count": 29,
   "id": "b76c5fd1",
   "metadata": {
    "scrolled": false
   },
   "outputs": [
    {
     "name": "stdout",
     "output_type": "stream",
     "text": [
      "<class 'pandas.core.frame.DataFrame'>\n",
      "RangeIndex: 1460 entries, 0 to 1459\n",
      "Data columns (total 28 columns):\n",
      " #   Column         Non-Null Count  Dtype \n",
      "---  ------         --------------  ----- \n",
      " 0   MSSubClass     1460 non-null   object\n",
      " 1   MSZoning       1460 non-null   object\n",
      " 2   Street         1460 non-null   object\n",
      " 3   LotShape       1460 non-null   object\n",
      " 4   LandContour    1460 non-null   object\n",
      " 5   Utilities      1460 non-null   object\n",
      " 6   LotConfig      1460 non-null   object\n",
      " 7   LandSlope      1460 non-null   object\n",
      " 8   Neighborhood   1460 non-null   object\n",
      " 9   Condition1     1460 non-null   object\n",
      " 10  Condition2     1460 non-null   object\n",
      " 11  BldgType       1460 non-null   object\n",
      " 12  HouseStyle     1460 non-null   object\n",
      " 13  RoofStyle      1460 non-null   object\n",
      " 14  RoofMatl       1460 non-null   object\n",
      " 15  Exterior1st    1460 non-null   object\n",
      " 16  Exterior2nd    1460 non-null   object\n",
      " 17  ExterQual      1460 non-null   object\n",
      " 18  ExterCond      1460 non-null   object\n",
      " 19  Foundation     1460 non-null   object\n",
      " 20  Heating        1460 non-null   object\n",
      " 21  HeatingQC      1460 non-null   object\n",
      " 22  CentralAir     1460 non-null   object\n",
      " 23  KitchenQual    1460 non-null   object\n",
      " 24  Functional     1460 non-null   object\n",
      " 25  PavedDrive     1460 non-null   object\n",
      " 26  SaleType       1460 non-null   object\n",
      " 27  SaleCondition  1460 non-null   object\n",
      "dtypes: object(28)\n",
      "memory usage: 319.5+ KB\n"
     ]
    }
   ],
   "source": [
    "categorical_variable.info()"
   ]
  },
  {
   "cell_type": "markdown",
   "id": "f180c239",
   "metadata": {},
   "source": [
    " "
   ]
  },
  {
   "cell_type": "markdown",
   "id": "e535cb2a",
   "metadata": {},
   "source": [
    " "
   ]
  },
  {
   "cell_type": "markdown",
   "id": "70927b9d",
   "metadata": {},
   "source": [
    "###### Ordinal Categorical Variables"
   ]
  },
  {
   "cell_type": "code",
   "execution_count": 30,
   "id": "ebdb67d3",
   "metadata": {},
   "outputs": [
    {
     "data": {
      "text/plain": [
       "Index(['ExterQual', 'ExterCond', 'HeatingQC', 'KitchenQual'], dtype='object')"
      ]
     },
     "execution_count": 30,
     "metadata": {},
     "output_type": "execute_result"
    }
   ],
   "source": [
    "ordinal_valiables = categorical_variable.columns[categorical_variable.columns.str.contains('Qual$|Cond$|QC$',regex=True)]\n",
    "ordinal_valiables"
   ]
  },
  {
   "cell_type": "code",
   "execution_count": 31,
   "id": "b540dda5",
   "metadata": {},
   "outputs": [],
   "source": [
    "ordinal_transformer = {'Ex':5, 'Gd':4, 'TA':3, 'Fa':2, 'Po':1, 'NA':0}\n",
    "eda_data[ordinal_valiables] = eda_data[ordinal_valiables].apply(lambda x: x.map(ordinal_transformer))"
   ]
  },
  {
   "cell_type": "code",
   "execution_count": 32,
   "id": "a9a51ed6",
   "metadata": {},
   "outputs": [
    {
     "name": "stdout",
     "output_type": "stream",
     "text": [
      "<class 'pandas.core.frame.DataFrame'>\n",
      "RangeIndex: 1460 entries, 0 to 1459\n",
      "Data columns (total 4 columns):\n",
      " #   Column       Non-Null Count  Dtype\n",
      "---  ------       --------------  -----\n",
      " 0   ExterQual    1460 non-null   int64\n",
      " 1   ExterCond    1460 non-null   int64\n",
      " 2   HeatingQC    1460 non-null   int64\n",
      " 3   KitchenQual  1460 non-null   int64\n",
      "dtypes: int64(4)\n",
      "memory usage: 45.8 KB\n"
     ]
    }
   ],
   "source": [
    "eda_data[ordinal_valiables].info()"
   ]
  },
  {
   "cell_type": "code",
   "execution_count": 33,
   "id": "b285dc8a",
   "metadata": {},
   "outputs": [],
   "source": [
    "ordinal_valiables = list(ordinal_valiables)\n",
    "ordinal_valiables.append('SalePrice')"
   ]
  },
  {
   "cell_type": "code",
   "execution_count": 34,
   "id": "1b38f50e",
   "metadata": {},
   "outputs": [
    {
     "data": {
      "image/png": "[encoded data removed]",
      "text/plain": [
       "<Figure size 576x360 with 2 Axes>"
      ]
     },
     "metadata": {
      "needs_background": "light"
     },
     "output_type": "display_data"
    }
   ],
   "source": [
    "plt.figure(figsize=(8,5))\n",
    "sns.heatmap(eda_data[ordinal_valiables].corr(),annot=True)\n",
    "plt.show()"
   ]
  },
  {
   "cell_type": "markdown",
   "id": "bb705ff2",
   "metadata": {},
   "source": [
    "We can see that the `ExterCond` variable has no linear relationship to the target variable and therefore it is best to drop it."
   ]
  },
  {
   "cell_type": "code",
   "execution_count": 35,
   "id": "ba0977a4",
   "metadata": {},
   "outputs": [],
   "source": [
    "eda_data.drop('ExterCond',axis=1,inplace=True)"
   ]
  },
  {
   "cell_type": "markdown",
   "id": "b7f3aa05",
   "metadata": {},
   "source": [
    " "
   ]
  },
  {
   "cell_type": "markdown",
   "id": "40f46497",
   "metadata": {},
   "source": [
    " "
   ]
  },
  {
   "cell_type": "markdown",
   "id": "c1b167ff",
   "metadata": {},
   "source": [
    "###### Nominal Categorical Variables"
   ]
  },
  {
   "cell_type": "code",
   "execution_count": 36,
   "id": "6b2fe8d4",
   "metadata": {},
   "outputs": [],
   "source": [
    "nominal_variables = eda_data.select_dtypes('object')"
   ]
  },
  {
   "cell_type": "code",
   "execution_count": 37,
   "id": "e996caf0",
   "metadata": {},
   "outputs": [
    {
     "name": "stdout",
     "output_type": "stream",
     "text": [
      "<class 'pandas.core.frame.DataFrame'>\n",
      "RangeIndex: 1460 entries, 0 to 1459\n",
      "Data columns (total 24 columns):\n",
      " #   Column         Non-Null Count  Dtype \n",
      "---  ------         --------------  ----- \n",
      " 0   MSSubClass     1460 non-null   object\n",
      " 1   MSZoning       1460 non-null   object\n",
      " 2   Street         1460 non-null   object\n",
      " 3   LotShape       1460 non-null   object\n",
      " 4   LandContour    1460 non-null   object\n",
      " 5   Utilities      1460 non-null   object\n",
      " 6   LotConfig      1460 non-null   object\n",
      " 7   LandSlope      1460 non-null   object\n",
      " 8   Neighborhood   1460 non-null   object\n",
      " 9   Condition1     1460 non-null   object\n",
      " 10  Condition2     1460 non-null   object\n",
      " 11  BldgType       1460 non-null   object\n",
      " 12  HouseStyle     1460 non-null   object\n",
      " 13  RoofStyle      1460 non-null   object\n",
      " 14  RoofMatl       1460 non-null   object\n",
      " 15  Exterior1st    1460 non-null   object\n",
      " 16  Exterior2nd    1460 non-null   object\n",
      " 17  Foundation     1460 non-null   object\n",
      " 18  Heating        1460 non-null   object\n",
      " 19  CentralAir     1460 non-null   object\n",
      " 20  Functional     1460 non-null   object\n",
      " 21  PavedDrive     1460 non-null   object\n",
      " 22  SaleType       1460 non-null   object\n",
      " 23  SaleCondition  1460 non-null   object\n",
      "dtypes: object(24)\n",
      "memory usage: 273.9+ KB\n"
     ]
    }
   ],
   "source": [
    "nominal_variables.info()"
   ]
  },
  {
   "cell_type": "code",
   "execution_count": 38,
   "id": "9be7668a",
   "metadata": {
    "scrolled": false
   },
   "outputs": [
    {
     "name": "stdout",
     "output_type": "stream",
     "text": [
      "MSSubClass\n",
      "20     36.71\n",
      "60     20.48\n",
      "50      9.86\n",
      "120     5.96\n",
      "30      4.73\n",
      "160     4.32\n",
      "70      4.11\n",
      "80      3.97\n",
      "90      3.56\n",
      "190     2.05\n",
      "85      1.37\n",
      "75      1.10\n",
      "45      0.82\n",
      "180     0.68\n",
      "40      0.27\n",
      "Name: MSSubClass, dtype: float64\n",
      "\n",
      "\n",
      "MSZoning\n",
      "RL         78.84\n",
      "RM         14.93\n",
      "FV          4.45\n",
      "RH          1.10\n",
      "C (all)     0.68\n",
      "Name: MSZoning, dtype: float64\n",
      "\n",
      "\n",
      "Street\n",
      "Pave    99.59\n",
      "Grvl     0.41\n",
      "Name: Street, dtype: float64\n",
      "\n",
      "\n",
      "LotShape\n",
      "Reg    63.36\n",
      "IR1    33.15\n",
      "IR2     2.81\n",
      "IR3     0.68\n",
      "Name: LotShape, dtype: float64\n",
      "\n",
      "\n",
      "LandContour\n",
      "Lvl    89.79\n",
      "Bnk     4.32\n",
      "HLS     3.42\n",
      "Low     2.47\n",
      "Name: LandContour, dtype: float64\n",
      "\n",
      "\n",
      "Utilities\n",
      "AllPub    99.93\n",
      "NoSeWa     0.07\n",
      "Name: Utilities, dtype: float64\n",
      "\n",
      "\n",
      "LotConfig\n",
      "Inside     72.05\n",
      "Corner     18.01\n",
      "CulDSac     6.44\n",
      "FR2         3.22\n",
      "FR3         0.27\n",
      "Name: LotConfig, dtype: float64\n",
      "\n",
      "\n",
      "LandSlope\n",
      "Gtl    94.66\n",
      "Mod     4.45\n",
      "Sev     0.89\n",
      "Name: LandSlope, dtype: float64\n",
      "\n",
      "\n",
      "Neighborhood\n",
      "NAmes      15.41\n",
      "CollgCr    10.27\n",
      "OldTown     7.74\n",
      "Edwards     6.85\n",
      "Somerst     5.89\n",
      "Gilbert     5.41\n",
      "NridgHt     5.27\n",
      "Sawyer      5.07\n",
      "NWAmes      5.00\n",
      "SawyerW     4.04\n",
      "BrkSide     3.97\n",
      "Crawfor     3.49\n",
      "Mitchel     3.36\n",
      "NoRidge     2.81\n",
      "Timber      2.60\n",
      "IDOTRR      2.53\n",
      "ClearCr     1.92\n",
      "SWISU       1.71\n",
      "StoneBr     1.71\n",
      "MeadowV     1.16\n",
      "Blmngtn     1.16\n",
      "BrDale      1.10\n",
      "Veenker     0.75\n",
      "NPkVill     0.62\n",
      "Blueste     0.14\n",
      "Name: Neighborhood, dtype: float64\n",
      "\n",
      "\n",
      "Condition1\n",
      "Norm      86.30\n",
      "Feedr      5.55\n",
      "Artery     3.29\n",
      "RRAn       1.78\n",
      "PosN       1.30\n",
      "RRAe       0.75\n",
      "PosA       0.55\n",
      "RRNn       0.34\n",
      "RRNe       0.14\n",
      "Name: Condition1, dtype: float64\n",
      "\n",
      "\n",
      "Condition2\n",
      "Norm      98.97\n",
      "Feedr      0.41\n",
      "Artery     0.14\n",
      "RRNn       0.14\n",
      "PosN       0.14\n",
      "RRAe       0.07\n",
      "RRAn       0.07\n",
      "PosA       0.07\n",
      "Name: Condition2, dtype: float64\n",
      "\n",
      "\n",
      "BldgType\n",
      "1Fam      83.56\n",
      "TwnhsE     7.81\n",
      "Duplex     3.56\n",
      "Twnhs      2.95\n",
      "2fmCon     2.12\n",
      "Name: BldgType, dtype: float64\n",
      "\n",
      "\n",
      "HouseStyle\n",
      "1Story    49.73\n",
      "2Story    30.48\n",
      "1.5Fin    10.55\n",
      "SLvl       4.45\n",
      "SFoyer     2.53\n",
      "1.5Unf     0.96\n",
      "2.5Unf     0.75\n",
      "2.5Fin     0.55\n",
      "Name: HouseStyle, dtype: float64\n",
      "\n",
      "\n",
      "RoofStyle\n",
      "Gable      78.15\n",
      "Hip        19.59\n",
      "Flat        0.89\n",
      "Gambrel     0.75\n",
      "Mansard     0.48\n",
      "Shed        0.14\n",
      "Name: RoofStyle, dtype: float64\n",
      "\n",
      "\n",
      "RoofMatl\n",
      "CompShg    98.22\n",
      "Tar&Grv     0.75\n",
      "WdShngl     0.41\n",
      "WdShake     0.34\n",
      "Roll        0.07\n",
      "ClyTile     0.07\n",
      "Membran     0.07\n",
      "Metal       0.07\n",
      "Name: RoofMatl, dtype: float64\n",
      "\n",
      "\n",
      "Exterior1st\n",
      "VinylSd    35.27\n",
      "HdBoard    15.21\n",
      "MetalSd    15.07\n",
      "Wd Sdng    14.11\n",
      "Plywood     7.40\n",
      "CemntBd     4.18\n",
      "BrkFace     3.42\n",
      "WdShing     1.78\n",
      "Stucco      1.71\n",
      "AsbShng     1.37\n",
      "Stone       0.14\n",
      "BrkComm     0.14\n",
      "ImStucc     0.07\n",
      "AsphShn     0.07\n",
      "CBlock      0.07\n",
      "Name: Exterior1st, dtype: float64\n",
      "\n",
      "\n",
      "Exterior2nd\n",
      "VinylSd    34.52\n",
      "MetalSd    14.66\n",
      "HdBoard    14.18\n",
      "Wd Sdng    13.49\n",
      "Plywood     9.73\n",
      "CmentBd     4.11\n",
      "Wd Shng     2.60\n",
      "Stucco      1.78\n",
      "BrkFace     1.71\n",
      "AsbShng     1.37\n",
      "ImStucc     0.68\n",
      "Brk Cmn     0.48\n",
      "Stone       0.34\n",
      "AsphShn     0.21\n",
      "Other       0.07\n",
      "CBlock      0.07\n",
      "Name: Exterior2nd, dtype: float64\n",
      "\n",
      "\n",
      "Foundation\n",
      "PConc     44.32\n",
      "CBlock    43.42\n",
      "BrkTil    10.00\n",
      "Slab       1.64\n",
      "Stone      0.41\n",
      "Wood       0.21\n",
      "Name: Foundation, dtype: float64\n",
      "\n",
      "\n",
      "Heating\n",
      "GasA     97.81\n",
      "GasW      1.23\n",
      "Grav      0.48\n",
      "Wall      0.27\n",
      "OthW      0.14\n",
      "Floor     0.07\n",
      "Name: Heating, dtype: float64\n",
      "\n",
      "\n",
      "CentralAir\n",
      "Y    93.49\n",
      "N     6.51\n",
      "Name: CentralAir, dtype: float64\n",
      "\n",
      "\n",
      "Functional\n",
      "Typ     93.15\n",
      "Min2     2.33\n",
      "Min1     2.12\n",
      "Mod      1.03\n",
      "Maj1     0.96\n",
      "Maj2     0.34\n",
      "Sev      0.07\n",
      "Name: Functional, dtype: float64\n",
      "\n",
      "\n",
      "PavedDrive\n",
      "Y    91.78\n",
      "N     6.16\n",
      "P     2.05\n",
      "Name: PavedDrive, dtype: float64\n",
      "\n",
      "\n",
      "SaleType\n",
      "WD       86.78\n",
      "New       8.36\n",
      "COD       2.95\n",
      "ConLD     0.62\n",
      "ConLI     0.34\n",
      "ConLw     0.34\n",
      "CWD       0.27\n",
      "Oth       0.21\n",
      "Con       0.14\n",
      "Name: SaleType, dtype: float64\n",
      "\n",
      "\n",
      "SaleCondition\n",
      "Normal     82.05\n",
      "Partial     8.56\n",
      "Abnorml     6.92\n",
      "Family      1.37\n",
      "Alloca      0.82\n",
      "AdjLand     0.27\n",
      "Name: SaleCondition, dtype: float64\n",
      "\n",
      "\n"
     ]
    }
   ],
   "source": [
    "# Checking Skewness\n",
    "\n",
    "for i in nominal_variables.columns:\n",
    "    print(i)\n",
    "    print(round(100*eda_data[i].value_counts(dropna=False,normalize=True),2),end='\\n\\n\\n')"
   ]
  },
  {
   "cell_type": "markdown",
   "id": "4a6dc8bc",
   "metadata": {},
   "source": [
    "There are many columns that are skewed and therefour have to be removed so that they do not have a negative effect on the model. Which are,\n",
    "   - MSZoning\n",
    "   - Street\n",
    "   - LandContur\n",
    "   - Utilities\n",
    "   - LotConfig\n",
    "   - LandSlope\n",
    "   - Condition1\n",
    "   - Condition2\n",
    "   - Exterior2nd\n",
    "   - BldgType\n",
    "   - RoofStyle\n",
    "   - RoofMatl\n",
    "   - Heating\n",
    "   - CentralAir\n",
    "   - Functional\n",
    "   - PavedDrive\n",
    "   - SaleType\n",
    "   - SaleCondition"
   ]
  },
  {
   "cell_type": "code",
   "execution_count": 39,
   "id": "018b9a11",
   "metadata": {},
   "outputs": [],
   "source": [
    "drop_coll = ['MSZoning','Street','LandContour','Utilities','LotConfig','LandSlope','Condition1','Condition2','BldgType'\n",
    "             ,'Exterior2nd','RoofStyle','RoofMatl','Heating','CentralAir','Functional','PavedDrive','SaleType','SaleCondition']\n",
    "\n",
    "nominal_variables.drop(drop_coll,axis=1,inplace=True)\n",
    "\n",
    "eda_data.drop(drop_coll,axis=1,inplace=True)"
   ]
  },
  {
   "cell_type": "code",
   "execution_count": 40,
   "id": "08cce1d5",
   "metadata": {},
   "outputs": [
    {
     "name": "stdout",
     "output_type": "stream",
     "text": [
      "<class 'pandas.core.frame.DataFrame'>\n",
      "RangeIndex: 1460 entries, 0 to 1459\n",
      "Data columns (total 6 columns):\n",
      " #   Column        Non-Null Count  Dtype \n",
      "---  ------        --------------  ----- \n",
      " 0   MSSubClass    1460 non-null   object\n",
      " 1   LotShape      1460 non-null   object\n",
      " 2   Neighborhood  1460 non-null   object\n",
      " 3   HouseStyle    1460 non-null   object\n",
      " 4   Exterior1st   1460 non-null   object\n",
      " 5   Foundation    1460 non-null   object\n",
      "dtypes: object(6)\n",
      "memory usage: 68.6+ KB\n"
     ]
    }
   ],
   "source": [
    "nominal_variables.info()"
   ]
  },
  {
   "cell_type": "code",
   "execution_count": 41,
   "id": "c59ace4a",
   "metadata": {
    "scrolled": false
   },
   "outputs": [
    {
     "data": {
      "image/png": "[encoded data removed]",
      "text/plain": [
       "<Figure size 576x432 with 1 Axes>"
      ]
     },
     "metadata": {
      "needs_background": "light"
     },
     "output_type": "display_data"
    }
   ],
   "source": [
    "plt.figure(figsize=(8,6))\n",
    "sns.boxplot(x=eda_data['MSSubClass'],y=eda_data['SalePrice'])\n",
    "plt.show()"
   ]
  },
  {
   "cell_type": "code",
   "execution_count": 42,
   "id": "6ce4aa63",
   "metadata": {},
   "outputs": [
    {
     "name": "stdout",
     "output_type": "stream",
     "text": [
      "<class 'pandas.core.frame.DataFrame'>\n",
      "RangeIndex: 1460 entries, 0 to 1459\n",
      "Data columns (total 6 columns):\n",
      " #   Column        Non-Null Count  Dtype \n",
      "---  ------        --------------  ----- \n",
      " 0   MSSubClass    1460 non-null   object\n",
      " 1   LotShape      1460 non-null   object\n",
      " 2   Neighborhood  1460 non-null   object\n",
      " 3   HouseStyle    1460 non-null   object\n",
      " 4   Exterior1st   1460 non-null   object\n",
      " 5   Foundation    1460 non-null   object\n",
      "dtypes: object(6)\n",
      "memory usage: 68.6+ KB\n"
     ]
    }
   ],
   "source": [
    "nominal_variables.info()"
   ]
  },
  {
   "cell_type": "code",
   "execution_count": 43,
   "id": "5483f211",
   "metadata": {},
   "outputs": [
    {
     "data": {
      "text/plain": [
       "Reg    925\n",
       "IR1    484\n",
       "IR2     41\n",
       "IR3     10\n",
       "Name: LotShape, dtype: int64"
      ]
     },
     "execution_count": 43,
     "metadata": {},
     "output_type": "execute_result"
    }
   ],
   "source": [
    "nominal_variables['LotShape'].value_counts()"
   ]
  },
  {
   "cell_type": "code",
   "execution_count": 44,
   "id": "f61a9844",
   "metadata": {},
   "outputs": [
    {
     "data": {
      "image/png": "[encoded data removed]",
      "text/plain": [
       "<Figure size 1080x432 with 2 Axes>"
      ]
     },
     "metadata": {
      "needs_background": "light"
     },
     "output_type": "display_data"
    }
   ],
   "source": [
    "fig,(ax1,ax2) = plt.subplots(1,2,figsize=(15,6))\n",
    "\n",
    "ax1.set_title('LotShape Before')\n",
    "sns.countplot(eda_data['LotShape'],ax=ax1)\n",
    "\n",
    "eda_data['LotShape'] = eda_data['LotShape'].replace(['IR1','IR2','IR3'],'Irregular')\n",
    "nominal_variables.drop('LotShape',axis=1,inplace=True)\n",
    "\n",
    "ax2.set_title('LotShape After')\n",
    "sns.countplot(eda_data['LotShape'],ax=ax2)\n",
    "\n",
    "plt.show()"
   ]
  },
  {
   "cell_type": "code",
   "execution_count": 45,
   "id": "f1682e50",
   "metadata": {},
   "outputs": [
    {
     "data": {
      "image/png": "[encoded data removed]",
      "text/plain": [
       "<Figure size 1440x432 with 2 Axes>"
      ]
     },
     "metadata": {
      "needs_background": "light"
     },
     "output_type": "display_data"
    }
   ],
   "source": [
    "fig,(ax1,ax2) = plt.subplots(1,2,figsize=(20,6))\n",
    "\n",
    "ax1.set_title('Neighborhood Before')\n",
    "sns.countplot(eda_data['Neighborhood'],ax=ax1)\n",
    "ax1.set_xticklabels(ax1.get_xticklabels(),Rotation=70)\n",
    "\n",
    "eda_data['Neighborhood'] = eda_data['Neighborhood'].replace(['NPkVill','Blueste','Veenker','BrDale','Blmngtn','MeadowV'\n",
    "                                                             ,'StoneBr','SWISU','ClearCr'],'Other')\n",
    "nominal_variables.drop('Neighborhood',axis=1,inplace=True)\n",
    "\n",
    "ax2.set_title('Neighborhood After')\n",
    "sns.countplot(eda_data['Neighborhood'],ax=ax2)\n",
    "ax2.set_xticklabels(ax2.get_xticklabels(),Rotation=70)\n",
    "\n",
    "plt.show()"
   ]
  },
  {
   "cell_type": "code",
   "execution_count": 46,
   "id": "4a7ad76a",
   "metadata": {},
   "outputs": [
    {
     "data": {
      "image/png": "[encoded data removed]",
      "text/plain": [
       "<Figure size 1080x432 with 2 Axes>"
      ]
     },
     "metadata": {
      "needs_background": "light"
     },
     "output_type": "display_data"
    }
   ],
   "source": [
    "fig,(ax1,ax2) = plt.subplots(1,2,figsize=(15,6))\n",
    "\n",
    "ax1.set_title('HouseStyle Before')\n",
    "sns.countplot(eda_data['HouseStyle'],ax=ax1)\n",
    "\n",
    "eda_data['HouseStyle'] = eda_data['HouseStyle'].replace(['1.5Fin','SLvl','SFoyer','1.5Unf','2.5Unf','2.5Fin'],'Others')\n",
    "nominal_variables.drop('HouseStyle',axis=1,inplace=True)\n",
    "\n",
    "ax2.set_title('HouseStyle After')\n",
    "sns.countplot(eda_data['HouseStyle'],ax=ax2)\n",
    "\n",
    "plt.show()"
   ]
  },
  {
   "cell_type": "code",
   "execution_count": 47,
   "id": "eb651caa",
   "metadata": {},
   "outputs": [
    {
     "data": {
      "image/png": "[encoded data removed]",
      "text/plain": [
       "<Figure size 1080x432 with 2 Axes>"
      ]
     },
     "metadata": {
      "needs_background": "light"
     },
     "output_type": "display_data"
    }
   ],
   "source": [
    "# Exterior1st\n",
    "\n",
    "combine = eda_data['Exterior1st'].value_counts()\n",
    "combine = combine[combine<100].keys()\n",
    "\n",
    "fig,(ax1,ax2) = plt.subplots(1,2,figsize=(15,6))\n",
    "\n",
    "ax1.set_title('Exterior1st Before')\n",
    "sns.countplot(eda_data['Exterior1st'],ax=ax1)\n",
    "ax1.set_xticklabels(ax1.get_xticklabels(),Rotation=70)\n",
    "\n",
    "eda_data['Exterior1st'] = eda_data['Exterior1st'].replace(combine,'Others')\n",
    "nominal_variables.drop('Exterior1st',axis=1,inplace=True)\n",
    "\n",
    "ax2.set_title('Exterior1st After')\n",
    "sns.countplot(eda_data['Exterior1st'],ax=ax2)\n",
    "\n",
    "plt.show()"
   ]
  },
  {
   "cell_type": "code",
   "execution_count": 48,
   "id": "987fee43",
   "metadata": {},
   "outputs": [
    {
     "data": {
      "image/png": "[encoded data removed]",
      "text/plain": [
       "<Figure size 1080x432 with 2 Axes>"
      ]
     },
     "metadata": {
      "needs_background": "light"
     },
     "output_type": "display_data"
    }
   ],
   "source": [
    "fig,(ax1,ax2) = plt.subplots(1,2,figsize=(15,6))\n",
    "\n",
    "ax1.set_title('MSSubClass Before')\n",
    "sns.countplot(eda_data['MSSubClass'],ax=ax1)\n",
    "\n",
    "eda_data['MSSubClass'] = eda_data['MSSubClass'].replace([40,45,75,180,85,190,90,80,70,160,30],'Others')\n",
    "eda_data['MSSubClass'] = eda_data['MSSubClass'].astype('object')\n",
    "nominal_variables.drop('MSSubClass',axis=1,inplace=True)\n",
    "\n",
    "ax2.set_title('MSSubClass After')\n",
    "sns.countplot(eda_data['MSSubClass'],ax=ax2)\n",
    "\n",
    "plt.show()"
   ]
  },
  {
   "cell_type": "code",
   "execution_count": 49,
   "id": "c94d7584",
   "metadata": {},
   "outputs": [
    {
     "data": {
      "image/png": "[encoded data removed]",
      "text/plain": [
       "<Figure size 1080x432 with 2 Axes>"
      ]
     },
     "metadata": {
      "needs_background": "light"
     },
     "output_type": "display_data"
    }
   ],
   "source": [
    "# Foundation\n",
    "\n",
    "fig,(ax1,ax2) = plt.subplots(1,2,figsize=(15,6))\n",
    "\n",
    "ax1.set_title('Foundation Before')\n",
    "sns.countplot(eda_data['Foundation'],ax=ax1)\n",
    "\n",
    "eda_data['Foundation'] = eda_data['Foundation'].replace(['BrkTil','Slab','Stone','Wood'],'Others')\n",
    "nominal_variables.drop('Foundation',axis=1,inplace=True)\n",
    "\n",
    "ax2.set_title('Foundation After')\n",
    "sns.countplot(eda_data['Foundation'],ax=ax2)\n",
    "\n",
    "plt.show()"
   ]
  },
  {
   "cell_type": "code",
   "execution_count": 50,
   "id": "bd65eba0",
   "metadata": {},
   "outputs": [
    {
     "name": "stdout",
     "output_type": "stream",
     "text": [
      "<class 'pandas.core.frame.DataFrame'>\n",
      "RangeIndex: 1460 entries, 0 to 1459\n",
      "Empty DataFrame"
     ]
    }
   ],
   "source": [
    "nominal_variables.info()"
   ]
  },
  {
   "cell_type": "markdown",
   "id": "3b21d3e9",
   "metadata": {},
   "source": [
    " "
   ]
  },
  {
   "cell_type": "markdown",
   "id": "3e598bc3",
   "metadata": {},
   "source": [
    "# Outliers"
   ]
  },
  {
   "cell_type": "code",
   "execution_count": 123,
   "id": "51999fcc",
   "metadata": {},
   "outputs": [
    {
     "data": {
      "image/png": "[encoded data removed]",
      "text/plain": [
       "<Figure size 720x432 with 1 Axes>"
      ]
     },
     "metadata": {
      "needs_background": "light"
     },
     "output_type": "display_data"
    }
   ],
   "source": [
    "plt.figure(figsize=(10,6))\n",
    "sns.scatterplot(x=eda_data['GrLivArea'],y=eda_data['SalePrice'])\n",
    "plt.show()"
   ]
  },
  {
   "cell_type": "markdown",
   "id": "46d90bc2",
   "metadata": {},
   "source": [
    "Here we consider the points on the bottom right of he plot to be outliers as they may have effect on the line of best fit."
   ]
  },
  {
   "cell_type": "code",
   "execution_count": 52,
   "id": "65d70ae9",
   "metadata": {},
   "outputs": [
    {
     "data": {
      "text/html": [
       "<div>\n",
       "<style scoped>\n",
       "    .dataframe tbody tr th:only-of-type {\n",
       "        vertical-align: middle;\n",
       "    }\n",
       "\n",
       "    .dataframe tbody tr th {\n",
       "        vertical-align: top;\n",
       "    }\n",
       "\n",
       "    .dataframe thead th {\n",
       "        text-align: right;\n",
       "    }\n",
       "</style>\n",
       "<table border=\"1\" class=\"dataframe\">\n",
       "  <thead>\n",
       "    <tr style=\"text-align: right;\">\n",
       "      <th></th>\n",
       "      <th>MSSubClass</th>\n",
       "      <th>LotFrontage</th>\n",
       "      <th>LotArea</th>\n",
       "      <th>LotShape</th>\n",
       "      <th>Neighborhood</th>\n",
       "      <th>HouseStyle</th>\n",
       "      <th>OverallQual</th>\n",
       "      <th>OverallCond</th>\n",
       "      <th>Exterior1st</th>\n",
       "      <th>ExterQual</th>\n",
       "      <th>...</th>\n",
       "      <th>OpenPorchSF</th>\n",
       "      <th>EnclosedPorch</th>\n",
       "      <th>3SsnPorch</th>\n",
       "      <th>ScreenPorch</th>\n",
       "      <th>PoolArea</th>\n",
       "      <th>MiscVal</th>\n",
       "      <th>MoSold</th>\n",
       "      <th>SalePrice</th>\n",
       "      <th>HouseAge</th>\n",
       "      <th>AgeRemodel</th>\n",
       "    </tr>\n",
       "  </thead>\n",
       "  <tbody>\n",
       "    <tr>\n",
       "      <th>523</th>\n",
       "      <td>60</td>\n",
       "      <td>130.0</td>\n",
       "      <td>40094</td>\n",
       "      <td>Irregular</td>\n",
       "      <td>Edwards</td>\n",
       "      <td>2Story</td>\n",
       "      <td>10</td>\n",
       "      <td>5</td>\n",
       "      <td>Others</td>\n",
       "      <td>5</td>\n",
       "      <td>...</td>\n",
       "      <td>406</td>\n",
       "      <td>0</td>\n",
       "      <td>0</td>\n",
       "      <td>0</td>\n",
       "      <td>0</td>\n",
       "      <td>0</td>\n",
       "      <td>10</td>\n",
       "      <td>184750</td>\n",
       "      <td>0</td>\n",
       "      <td>-1</td>\n",
       "    </tr>\n",
       "    <tr>\n",
       "      <th>1298</th>\n",
       "      <td>60</td>\n",
       "      <td>313.0</td>\n",
       "      <td>63887</td>\n",
       "      <td>Irregular</td>\n",
       "      <td>Edwards</td>\n",
       "      <td>2Story</td>\n",
       "      <td>10</td>\n",
       "      <td>5</td>\n",
       "      <td>Others</td>\n",
       "      <td>5</td>\n",
       "      <td>...</td>\n",
       "      <td>292</td>\n",
       "      <td>0</td>\n",
       "      <td>0</td>\n",
       "      <td>0</td>\n",
       "      <td>480</td>\n",
       "      <td>0</td>\n",
       "      <td>1</td>\n",
       "      <td>160000</td>\n",
       "      <td>0</td>\n",
       "      <td>0</td>\n",
       "    </tr>\n",
       "  </tbody>\n",
       "</table>\n",
       "<p>2 rows × 42 columns</p>\n",
       "</div>"
      ],
      "text/plain": [
       "     MSSubClass  LotFrontage  LotArea   LotShape Neighborhood HouseStyle  \\\n",
       "523          60        130.0    40094  Irregular      Edwards     2Story   \n",
       "1298         60        313.0    63887  Irregular      Edwards     2Story   \n",
       "\n",
       "      OverallQual  OverallCond Exterior1st  ExterQual  ... OpenPorchSF  \\\n",
       "523            10            5      Others          5  ...         406   \n",
       "1298           10            5      Others          5  ...         292   \n",
       "\n",
       "      EnclosedPorch  3SsnPorch  ScreenPorch  PoolArea  MiscVal  MoSold  \\\n",
       "523               0          0            0         0        0      10   \n",
       "1298              0          0            0       480        0       1   \n",
       "\n",
       "      SalePrice  HouseAge  AgeRemodel  \n",
       "523      184750         0          -1  \n",
       "1298     160000         0           0  \n",
       "\n",
       "[2 rows x 42 columns]"
      ]
     },
     "execution_count": 52,
     "metadata": {},
     "output_type": "execute_result"
    }
   ],
   "source": [
    "temp = eda_data[(eda_data['SalePrice']<300000)&(eda_data['GrLivArea']>4000)]\n",
    "\n",
    "temp"
   ]
  },
  {
   "cell_type": "code",
   "execution_count": 53,
   "id": "0e5b8a98",
   "metadata": {},
   "outputs": [],
   "source": [
    "eda_data.drop(temp.index,inplace=True)"
   ]
  },
  {
   "cell_type": "code",
   "execution_count": 54,
   "id": "fe158a5f",
   "metadata": {},
   "outputs": [
    {
     "data": {
      "text/plain": [
       "(1458, 42)"
      ]
     },
     "execution_count": 54,
     "metadata": {},
     "output_type": "execute_result"
    }
   ],
   "source": [
    "eda_data.shape"
   ]
  },
  {
   "cell_type": "markdown",
   "id": "f80a2788",
   "metadata": {},
   "source": [
    " "
   ]
  },
  {
   "cell_type": "markdown",
   "id": "c7c60c6d",
   "metadata": {},
   "source": [
    "### Creating Dummies"
   ]
  },
  {
   "cell_type": "code",
   "execution_count": 55,
   "id": "64930c24",
   "metadata": {},
   "outputs": [
    {
     "data": {
      "text/plain": [
       "(1458, 42)"
      ]
     },
     "execution_count": 55,
     "metadata": {},
     "output_type": "execute_result"
    }
   ],
   "source": [
    "eda_data.shape"
   ]
  },
  {
   "cell_type": "code",
   "execution_count": 56,
   "id": "8e43250f",
   "metadata": {},
   "outputs": [
    {
     "name": "stdout",
     "output_type": "stream",
     "text": [
      "<class 'pandas.core.frame.DataFrame'>\n",
      "Int64Index: 1458 entries, 0 to 1459\n",
      "Data columns (total 6 columns):\n",
      " #   Column        Non-Null Count  Dtype \n",
      "---  ------        --------------  ----- \n",
      " 0   MSSubClass    1458 non-null   object\n",
      " 1   LotShape      1458 non-null   object\n",
      " 2   Neighborhood  1458 non-null   object\n",
      " 3   HouseStyle    1458 non-null   object\n",
      " 4   Exterior1st   1458 non-null   object\n",
      " 5   Foundation    1458 non-null   object\n",
      "dtypes: object(6)\n",
      "memory usage: 79.7+ KB\n"
     ]
    }
   ],
   "source": [
    "dummy_variables = eda_data.select_dtypes('object')\n",
    "\n",
    "dummy_variables.info()"
   ]
  },
  {
   "cell_type": "code",
   "execution_count": 57,
   "id": "bc16b2b1",
   "metadata": {},
   "outputs": [
    {
     "data": {
      "text/plain": [
       "((1458, 36), (1458, 30), (1458, 66))"
      ]
     },
     "execution_count": 57,
     "metadata": {},
     "output_type": "execute_result"
    }
   ],
   "source": [
    "eda_data.drop(dummy_variables.columns,axis=1,inplace=True)\n",
    "\n",
    "dummy_variables = pd.get_dummies(dummy_variables,drop_first=True)\n",
    "\n",
    "modeling_data = pd.concat([eda_data,dummy_variables],axis=1)\n",
    "\n",
    "eda_data.shape,dummy_variables.shape,modeling_data.shape"
   ]
  },
  {
   "cell_type": "markdown",
   "id": "e2aa8a90",
   "metadata": {},
   "source": [
    " "
   ]
  },
  {
   "cell_type": "markdown",
   "id": "6bec5337",
   "metadata": {},
   "source": [
    " "
   ]
  },
  {
   "cell_type": "code",
   "execution_count": 58,
   "id": "5a1d3bf4",
   "metadata": {},
   "outputs": [],
   "source": [
    "# Function to get the top correlations\n",
    "def top_corr(data,num = 10,target_coll = ' '):\n",
    "    req_col=data._get_numeric_data().columns.tolist()\n",
    "    if target_coll in req_col:\n",
    "        req_col.remove(target_coll)\n",
    "    var_list=[]\n",
    "    from itertools import combinations\n",
    "    for i in combinations(data.columns,2):\n",
    "        i=list(i)\n",
    "        var_list.append(i)\n",
    "    corr_df=pd.DataFrame(var_list,columns=['Var1','Var2'])\n",
    "    corr_df['Correlations']=corr_df[['Var1','Var2']].apply(lambda x: data[list(x)].corr().iloc[1,0],axis=1)\n",
    "    corr_df['Corr_abs']=corr_df['Correlations'].abs()\n",
    "    # Returning a Dataframe whose values are sorted according to the absolute correlation values\n",
    "    return corr_df.sort_values(by='Corr_abs',ascending=False).head(num)\n"
   ]
  },
  {
   "cell_type": "code",
   "execution_count": 59,
   "id": "581820bd",
   "metadata": {},
   "outputs": [
    {
     "data": {
      "text/html": [
       "<div>\n",
       "<style scoped>\n",
       "    .dataframe tbody tr th:only-of-type {\n",
       "        vertical-align: middle;\n",
       "    }\n",
       "\n",
       "    .dataframe tbody tr th {\n",
       "        vertical-align: top;\n",
       "    }\n",
       "\n",
       "    .dataframe thead th {\n",
       "        text-align: right;\n",
       "    }\n",
       "</style>\n",
       "<table border=\"1\" class=\"dataframe\">\n",
       "  <thead>\n",
       "    <tr style=\"text-align: right;\">\n",
       "      <th></th>\n",
       "      <th>Var1</th>\n",
       "      <th>Var2</th>\n",
       "      <th>Correlations</th>\n",
       "      <th>Corr_abs</th>\n",
       "    </tr>\n",
       "  </thead>\n",
       "  <tbody>\n",
       "    <tr>\n",
       "      <th>1242</th>\n",
       "      <td>GarageCars</td>\n",
       "      <td>GarageArea</td>\n",
       "      <td>0.887304</td>\n",
       "      <td>0.887304</td>\n",
       "    </tr>\n",
       "    <tr>\n",
       "      <th>774</th>\n",
       "      <td>GrLivArea</td>\n",
       "      <td>TotRmsAbvGrd</td>\n",
       "      <td>0.829498</td>\n",
       "      <td>0.829498</td>\n",
       "    </tr>\n",
       "    <tr>\n",
       "      <th>705</th>\n",
       "      <td>2ndFlrSF</td>\n",
       "      <td>HouseStyle_2Story</td>\n",
       "      <td>0.808753</td>\n",
       "      <td>0.808753</td>\n",
       "    </tr>\n",
       "    <tr>\n",
       "      <th>493</th>\n",
       "      <td>TotalBsmtSF</td>\n",
       "      <td>1stFlrSF</td>\n",
       "      <td>0.803830</td>\n",
       "      <td>0.803830</td>\n",
       "    </tr>\n",
       "    <tr>\n",
       "      <th>159</th>\n",
       "      <td>OverallQual</td>\n",
       "      <td>SalePrice</td>\n",
       "      <td>0.795774</td>\n",
       "      <td>0.795774</td>\n",
       "    </tr>\n",
       "    <tr>\n",
       "      <th>1758</th>\n",
       "      <td>MSSubClass_60</td>\n",
       "      <td>HouseStyle_2Story</td>\n",
       "      <td>0.761882</td>\n",
       "      <td>0.761882</td>\n",
       "    </tr>\n",
       "    <tr>\n",
       "      <th>786</th>\n",
       "      <td>GrLivArea</td>\n",
       "      <td>SalePrice</td>\n",
       "      <td>0.734968</td>\n",
       "      <td>0.734968</td>\n",
       "    </tr>\n",
       "    <tr>\n",
       "      <th>130</th>\n",
       "      <td>OverallQual</td>\n",
       "      <td>ExterQual</td>\n",
       "      <td>0.723286</td>\n",
       "      <td>0.723286</td>\n",
       "    </tr>\n",
       "    <tr>\n",
       "      <th>269</th>\n",
       "      <td>ExterQual</td>\n",
       "      <td>KitchenQual</td>\n",
       "      <td>0.713812</td>\n",
       "      <td>0.713812</td>\n",
       "    </tr>\n",
       "    <tr>\n",
       "      <th>661</th>\n",
       "      <td>2ndFlrSF</td>\n",
       "      <td>GrLivArea</td>\n",
       "      <td>0.694678</td>\n",
       "      <td>0.694678</td>\n",
       "    </tr>\n",
       "  </tbody>\n",
       "</table>\n",
       "</div>"
      ],
      "text/plain": [
       "               Var1               Var2  Correlations  Corr_abs\n",
       "1242     GarageCars         GarageArea      0.887304  0.887304\n",
       "774       GrLivArea       TotRmsAbvGrd      0.829498  0.829498\n",
       "705        2ndFlrSF  HouseStyle_2Story      0.808753  0.808753\n",
       "493     TotalBsmtSF           1stFlrSF      0.803830  0.803830\n",
       "159     OverallQual          SalePrice      0.795774  0.795774\n",
       "1758  MSSubClass_60  HouseStyle_2Story      0.761882  0.761882\n",
       "786       GrLivArea          SalePrice      0.734968  0.734968\n",
       "130     OverallQual          ExterQual      0.723286  0.723286\n",
       "269       ExterQual        KitchenQual      0.713812  0.713812\n",
       "661        2ndFlrSF          GrLivArea      0.694678  0.694678"
      ]
     },
     "execution_count": 59,
     "metadata": {},
     "output_type": "execute_result"
    }
   ],
   "source": [
    "top_corr(modeling_data)"
   ]
  },
  {
   "cell_type": "code",
   "execution_count": 60,
   "id": "4b4c8f06",
   "metadata": {},
   "outputs": [
    {
     "data": {
      "text/plain": [
       "(1458, 66)"
      ]
     },
     "execution_count": 60,
     "metadata": {},
     "output_type": "execute_result"
    }
   ],
   "source": [
    "modeling_data.shape"
   ]
  },
  {
   "cell_type": "markdown",
   "id": "31fff3cc",
   "metadata": {},
   "source": [
    " "
   ]
  },
  {
   "cell_type": "markdown",
   "id": "d08a351a",
   "metadata": {},
   "source": [
    " "
   ]
  },
  {
   "cell_type": "markdown",
   "id": "702ea80d",
   "metadata": {},
   "source": [
    "### X and Y data"
   ]
  },
  {
   "cell_type": "code",
   "execution_count": 61,
   "id": "e9ebffa0",
   "metadata": {},
   "outputs": [],
   "source": [
    "x = modeling_data.drop('SalePrice',axis=1)"
   ]
  },
  {
   "cell_type": "code",
   "execution_count": 62,
   "id": "22761849",
   "metadata": {},
   "outputs": [],
   "source": [
    "y = modeling_data.pop('SalePrice')"
   ]
  },
  {
   "cell_type": "markdown",
   "id": "8af12b36",
   "metadata": {},
   "source": [
    " "
   ]
  },
  {
   "cell_type": "markdown",
   "id": "aeab64df",
   "metadata": {},
   "source": [
    " "
   ]
  },
  {
   "cell_type": "markdown",
   "id": "33b8053b",
   "metadata": {},
   "source": [
    "### Scaling "
   ]
  },
  {
   "cell_type": "code",
   "execution_count": 63,
   "id": "ba578b25",
   "metadata": {},
   "outputs": [],
   "source": [
    "from sklearn.preprocessing import StandardScaler\n",
    "scaler = StandardScaler()\n",
    "x[x.columns] = scaler.fit_transform(x)"
   ]
  },
  {
   "cell_type": "markdown",
   "id": "09406978",
   "metadata": {},
   "source": [
    " "
   ]
  },
  {
   "cell_type": "markdown",
   "id": "b15faf71",
   "metadata": {},
   "source": [
    "### Checking If the Target variable is normally distibuted"
   ]
  },
  {
   "cell_type": "code",
   "execution_count": 64,
   "id": "cf41d5c7",
   "metadata": {},
   "outputs": [
    {
     "data": {
      "image/png": "[encoded data removed]",
      "text/plain": [
       "<Figure size 1080x432 with 2 Axes>"
      ]
     },
     "metadata": {
      "needs_background": "light"
     },
     "output_type": "display_data"
    }
   ],
   "source": [
    "fig,(ax1,ax2) = plt.subplots(1,2,figsize=(15,6))\n",
    "\n",
    "ax1.set_title('Target Variable Before')\n",
    "sns.distplot(y,ax=ax1)\n",
    "\n",
    "y = np.log(y)\n",
    "\n",
    "ax2.set_title('Target Variable After')\n",
    "sns.distplot(y,ax=ax2)\n",
    "\n",
    "plt.show()"
   ]
  },
  {
   "cell_type": "markdown",
   "id": "ee5f8d8b",
   "metadata": {},
   "source": [
    "### Train Test Split"
   ]
  },
  {
   "cell_type": "code",
   "execution_count": 65,
   "id": "2fef0be4",
   "metadata": {},
   "outputs": [],
   "source": [
    "from sklearn.model_selection import train_test_split"
   ]
  },
  {
   "cell_type": "code",
   "execution_count": 66,
   "id": "49c19e35",
   "metadata": {},
   "outputs": [],
   "source": [
    "x_train,x_test,y_train,y_test = train_test_split(x,y,train_size=0.7,random_state=42)"
   ]
  },
  {
   "cell_type": "markdown",
   "id": "855aa9d9",
   "metadata": {},
   "source": [
    "# Model Building"
   ]
  },
  {
   "cell_type": "code",
   "execution_count": 67,
   "id": "df82f622",
   "metadata": {},
   "outputs": [],
   "source": [
    "from sklearn.linear_model import LinearRegression\n",
    "from sklearn.metrics import mean_squared_error,r2_score"
   ]
  },
  {
   "cell_type": "markdown",
   "id": "b945557c",
   "metadata": {},
   "source": [
    "#### Base Model - Linear Regression"
   ]
  },
  {
   "cell_type": "code",
   "execution_count": 68,
   "id": "af6f18b2",
   "metadata": {},
   "outputs": [],
   "source": [
    "lin_rig = LinearRegression()"
   ]
  },
  {
   "cell_type": "code",
   "execution_count": 69,
   "id": "3e44c673",
   "metadata": {},
   "outputs": [],
   "source": [
    "Base_Model = lin_rig.fit(x_train,y_train)"
   ]
  },
  {
   "cell_type": "code",
   "execution_count": 70,
   "id": "65acc58c",
   "metadata": {},
   "outputs": [],
   "source": [
    "Base_Model_Pred = Base_Model.predict(x_train)\n",
    "\n",
    "results = pd.DataFrame(columns=('R2_Train','RMSE_Train','R2_Test','RMSE_Test'))\n",
    "\n",
    "temp_results = []\n",
    "\n",
    "temp_results.append(r2_score(y_train,Base_Model_Pred))\n",
    "\n",
    "temp_results.append(round(mean_squared_error(np.exp(y_train),np.exp(Base_Model_Pred))**0.5,0))\n",
    "\n",
    "Base_Model_Pred_Test = Base_Model.predict(x_test)\n",
    "\n",
    "temp_results.append(r2_score(y_test,Base_Model_Pred_Test))\n",
    "\n",
    "temp_results.append(round(mean_squared_error(np.exp(y_test),np.exp(Base_Model_Pred_Test))**0.5,0))"
   ]
  },
  {
   "cell_type": "code",
   "execution_count": 71,
   "id": "81e0c51c",
   "metadata": {},
   "outputs": [
    {
     "data": {
      "text/html": [
       "<div>\n",
       "<style scoped>\n",
       "    .dataframe tbody tr th:only-of-type {\n",
       "        vertical-align: middle;\n",
       "    }\n",
       "\n",
       "    .dataframe tbody tr th {\n",
       "        vertical-align: top;\n",
       "    }\n",
       "\n",
       "    .dataframe thead th {\n",
       "        text-align: right;\n",
       "    }\n",
       "</style>\n",
       "<table border=\"1\" class=\"dataframe\">\n",
       "  <thead>\n",
       "    <tr style=\"text-align: right;\">\n",
       "      <th></th>\n",
       "      <th>R2_Train</th>\n",
       "      <th>RMSE_Train</th>\n",
       "      <th>R2_Test</th>\n",
       "      <th>RMSE_Test</th>\n",
       "    </tr>\n",
       "  </thead>\n",
       "  <tbody>\n",
       "    <tr>\n",
       "      <th>Base LR Model</th>\n",
       "      <td>0.919872</td>\n",
       "      <td>21267.0</td>\n",
       "      <td>0.900467</td>\n",
       "      <td>20681.0</td>\n",
       "    </tr>\n",
       "  </tbody>\n",
       "</table>\n",
       "</div>"
      ],
      "text/plain": [
       "               R2_Train  RMSE_Train   R2_Test  RMSE_Test\n",
       "Base LR Model  0.919872     21267.0  0.900467    20681.0"
      ]
     },
     "execution_count": 71,
     "metadata": {},
     "output_type": "execute_result"
    }
   ],
   "source": [
    "results.loc['Base LR Model'] = temp_results\n",
    "\n",
    "results"
   ]
  },
  {
   "cell_type": "markdown",
   "id": "241ca8ee",
   "metadata": {},
   "source": [
    " "
   ]
  },
  {
   "cell_type": "markdown",
   "id": "356e8489",
   "metadata": {},
   "source": [
    "#### Ridge Regression"
   ]
  },
  {
   "cell_type": "code",
   "execution_count": 72,
   "id": "af592795",
   "metadata": {},
   "outputs": [],
   "source": [
    "from sklearn.linear_model import Ridge\n",
    "from sklearn.model_selection import GridSearchCV"
   ]
  },
  {
   "cell_type": "code",
   "execution_count": 73,
   "id": "46036dad",
   "metadata": {},
   "outputs": [],
   "source": [
    "rig_reg = Ridge(random_state=42)"
   ]
  },
  {
   "cell_type": "code",
   "execution_count": 74,
   "id": "d5e68479",
   "metadata": {},
   "outputs": [],
   "source": [
    "Base_Ridge = rig_reg.fit(x_train,y_train)"
   ]
  },
  {
   "cell_type": "code",
   "execution_count": 75,
   "id": "c4e5b6e0",
   "metadata": {},
   "outputs": [],
   "source": [
    "Base_Model_Pred_Ridge = Base_Ridge.predict(x_train)\n",
    "\n",
    "temp_results = []\n",
    "\n",
    "temp_results.append(r2_score(y_train,Base_Model_Pred_Ridge))\n",
    "\n",
    "temp_results.append(round(mean_squared_error(np.exp(y_train),np.exp(Base_Model_Pred_Ridge))**0.5,0))\n",
    "\n",
    "Base_Model_Pred_Test_Ridge = Base_Model.predict(x_test)\n",
    "\n",
    "temp_results.append(r2_score(y_test,Base_Model_Pred_Test_Ridge))\n",
    "\n",
    "temp_results.append(round(mean_squared_error(np.exp(y_test),np.exp(Base_Model_Pred_Test_Ridge))**0.5,0))"
   ]
  },
  {
   "cell_type": "code",
   "execution_count": 76,
   "id": "ded2a986",
   "metadata": {},
   "outputs": [
    {
     "data": {
      "text/html": [
       "<div>\n",
       "<style scoped>\n",
       "    .dataframe tbody tr th:only-of-type {\n",
       "        vertical-align: middle;\n",
       "    }\n",
       "\n",
       "    .dataframe tbody tr th {\n",
       "        vertical-align: top;\n",
       "    }\n",
       "\n",
       "    .dataframe thead th {\n",
       "        text-align: right;\n",
       "    }\n",
       "</style>\n",
       "<table border=\"1\" class=\"dataframe\">\n",
       "  <thead>\n",
       "    <tr style=\"text-align: right;\">\n",
       "      <th></th>\n",
       "      <th>R2_Train</th>\n",
       "      <th>RMSE_Train</th>\n",
       "      <th>R2_Test</th>\n",
       "      <th>RMSE_Test</th>\n",
       "    </tr>\n",
       "  </thead>\n",
       "  <tbody>\n",
       "    <tr>\n",
       "      <th>Base LR Model</th>\n",
       "      <td>0.919872</td>\n",
       "      <td>21267.0</td>\n",
       "      <td>0.900467</td>\n",
       "      <td>20681.0</td>\n",
       "    </tr>\n",
       "    <tr>\n",
       "      <th>Base Ridge Model</th>\n",
       "      <td>0.919872</td>\n",
       "      <td>21267.0</td>\n",
       "      <td>0.900467</td>\n",
       "      <td>20681.0</td>\n",
       "    </tr>\n",
       "  </tbody>\n",
       "</table>\n",
       "</div>"
      ],
      "text/plain": [
       "                  R2_Train  RMSE_Train   R2_Test  RMSE_Test\n",
       "Base LR Model     0.919872     21267.0  0.900467    20681.0\n",
       "Base Ridge Model  0.919872     21267.0  0.900467    20681.0"
      ]
     },
     "execution_count": 76,
     "metadata": {},
     "output_type": "execute_result"
    }
   ],
   "source": [
    "results.loc['Base Ridge Model'] = temp_results\n",
    "\n",
    "results"
   ]
  },
  {
   "cell_type": "markdown",
   "id": "508958ef",
   "metadata": {},
   "source": [
    " "
   ]
  },
  {
   "cell_type": "markdown",
   "id": "82a60249",
   "metadata": {},
   "source": [
    "#### Best Ridge Model "
   ]
  },
  {
   "cell_type": "code",
   "execution_count": 77,
   "id": "a06675ff",
   "metadata": {},
   "outputs": [
    {
     "name": "stdout",
     "output_type": "stream",
     "text": [
      "Fitting 5 folds for each of 28 candidates, totalling 140 fits\n"
     ]
    },
    {
     "data": {
      "text/plain": [
       "GridSearchCV(cv=5, estimator=Ridge(random_state=42),\n",
       "             param_grid={'alpha': [0.0001, 0.001, 0.01, 0.05, 0.1, 0.2, 0.3,\n",
       "                                   0.4, 0.5, 0.6, 0.7, 0.8, 0.9, 1.0, 2.0, 3.0,\n",
       "                                   4.0, 5.0, 6.0, 7.0, 8.0, 9.0, 10.0, 20, 50,\n",
       "                                   100, 500, 1000]},\n",
       "             return_train_score=True, scoring='neg_mean_squared_error',\n",
       "             verbose=1)"
      ]
     },
     "execution_count": 77,
     "metadata": {},
     "output_type": "execute_result"
    }
   ],
   "source": [
    "# list of alphas to tune - if value too high it will lead to underfitting, if it is too low, \n",
    "# it will not handle the overfitting\n",
    "params = {'alpha': [0.0001, 0.001, 0.01, 0.05, 0.1, \n",
    " 0.2, 0.3, 0.4, 0.5, 0.6, 0.7, 0.8, 0.9, 1.0, 2.0, 3.0, \n",
    " 4.0, 5.0, 6.0, 7.0, 8.0, 9.0, 10.0, 20, 50, 100, 500, 1000 ]}\n",
    "\n",
    "#ridge = Ridge()\n",
    "\n",
    "# cross validation\n",
    "folds = 5\n",
    "model_cv = GridSearchCV(estimator = rig_reg, \n",
    "                        param_grid = params, \n",
    "                        scoring= 'neg_mean_squared_error',  \n",
    "                        cv = folds, \n",
    "                        return_train_score=True,\n",
    "                        verbose = 1)            \n",
    "\n",
    "model_cv.fit(x_train, y_train) "
   ]
  },
  {
   "cell_type": "code",
   "execution_count": 78,
   "id": "e465fc73",
   "metadata": {},
   "outputs": [
    {
     "data": {
      "text/plain": [
       "Ridge(alpha=50, random_state=42)"
      ]
     },
     "execution_count": 78,
     "metadata": {},
     "output_type": "execute_result"
    }
   ],
   "source": [
    "model_cv.best_estimator_"
   ]
  },
  {
   "cell_type": "code",
   "execution_count": 79,
   "id": "0ddceda4",
   "metadata": {},
   "outputs": [
    {
     "data": {
      "text/plain": [
       "-0.01508402012097751"
      ]
     },
     "execution_count": 79,
     "metadata": {},
     "output_type": "execute_result"
    }
   ],
   "source": [
    "model_cv.best_score_"
   ]
  },
  {
   "cell_type": "code",
   "execution_count": 80,
   "id": "db8a80cc",
   "metadata": {},
   "outputs": [],
   "source": [
    "rig_reg = Ridge(alpha=50, random_state=42)\n",
    "\n",
    "Best_Ridge = rig_reg.fit(x_train,y_train)"
   ]
  },
  {
   "cell_type": "code",
   "execution_count": 81,
   "id": "59a79550",
   "metadata": {},
   "outputs": [],
   "source": [
    "Best_Ridge_Pred = Best_Ridge.predict(x_train)\n",
    "\n",
    "temp_results = []\n",
    "\n",
    "temp_results.append(r2_score(y_train,Best_Ridge_Pred))\n",
    "\n",
    "temp_results.append(round(mean_squared_error(np.exp(y_train),np.exp(Best_Ridge_Pred))**0.5,0))\n",
    "\n",
    "Best_Ridge_Pred_Test = Best_Ridge.predict(x_test)\n",
    "\n",
    "temp_results.append(r2_score(y_test,Best_Ridge_Pred_Test))\n",
    "\n",
    "temp_results.append(round(mean_squared_error(np.exp(y_test),np.exp(Best_Ridge_Pred_Test))**0.5))"
   ]
  },
  {
   "cell_type": "code",
   "execution_count": 82,
   "id": "32cd4173",
   "metadata": {},
   "outputs": [
    {
     "data": {
      "text/html": [
       "<div>\n",
       "<style scoped>\n",
       "    .dataframe tbody tr th:only-of-type {\n",
       "        vertical-align: middle;\n",
       "    }\n",
       "\n",
       "    .dataframe tbody tr th {\n",
       "        vertical-align: top;\n",
       "    }\n",
       "\n",
       "    .dataframe thead th {\n",
       "        text-align: right;\n",
       "    }\n",
       "</style>\n",
       "<table border=\"1\" class=\"dataframe\">\n",
       "  <thead>\n",
       "    <tr style=\"text-align: right;\">\n",
       "      <th></th>\n",
       "      <th>R2_Train</th>\n",
       "      <th>RMSE_Train</th>\n",
       "      <th>R2_Test</th>\n",
       "      <th>RMSE_Test</th>\n",
       "    </tr>\n",
       "  </thead>\n",
       "  <tbody>\n",
       "    <tr>\n",
       "      <th>Base LR Model</th>\n",
       "      <td>0.919872</td>\n",
       "      <td>21267.0</td>\n",
       "      <td>0.900467</td>\n",
       "      <td>20681.0</td>\n",
       "    </tr>\n",
       "    <tr>\n",
       "      <th>Base Ridge Model</th>\n",
       "      <td>0.919872</td>\n",
       "      <td>21267.0</td>\n",
       "      <td>0.900467</td>\n",
       "      <td>20681.0</td>\n",
       "    </tr>\n",
       "    <tr>\n",
       "      <th>Best Ridge Model</th>\n",
       "      <td>0.919078</td>\n",
       "      <td>21471.0</td>\n",
       "      <td>0.901191</td>\n",
       "      <td>20490.0</td>\n",
       "    </tr>\n",
       "  </tbody>\n",
       "</table>\n",
       "</div>"
      ],
      "text/plain": [
       "                  R2_Train  RMSE_Train   R2_Test  RMSE_Test\n",
       "Base LR Model     0.919872     21267.0  0.900467    20681.0\n",
       "Base Ridge Model  0.919872     21267.0  0.900467    20681.0\n",
       "Best Ridge Model  0.919078     21471.0  0.901191    20490.0"
      ]
     },
     "execution_count": 82,
     "metadata": {},
     "output_type": "execute_result"
    }
   ],
   "source": [
    "results.loc['Best Ridge Model'] = temp_results\n",
    "\n",
    "results"
   ]
  },
  {
   "cell_type": "markdown",
   "id": "5de5b931",
   "metadata": {},
   "source": [
    " "
   ]
  },
  {
   "cell_type": "markdown",
   "id": "5a2cd05f",
   "metadata": {},
   "source": [
    " "
   ]
  },
  {
   "cell_type": "markdown",
   "id": "10f166f0",
   "metadata": {},
   "source": [
    "### Base Laso Model"
   ]
  },
  {
   "cell_type": "code",
   "execution_count": 83,
   "id": "6c58c920",
   "metadata": {},
   "outputs": [],
   "source": [
    "from sklearn.linear_model import Lasso"
   ]
  },
  {
   "cell_type": "code",
   "execution_count": 84,
   "id": "06d78e11",
   "metadata": {},
   "outputs": [],
   "source": [
    "laso_reg = Lasso(random_state=42)"
   ]
  },
  {
   "cell_type": "code",
   "execution_count": 85,
   "id": "c911c455",
   "metadata": {},
   "outputs": [],
   "source": [
    "Base_Laso = laso_reg.fit(x_train,y_train)"
   ]
  },
  {
   "cell_type": "code",
   "execution_count": 86,
   "id": "d7aa1952",
   "metadata": {},
   "outputs": [],
   "source": [
    "Base_Model_Pred_Laso = Base_Laso.predict(x_train)\n",
    "\n",
    "temp_results = []\n",
    "\n",
    "temp_results.append(r2_score(y_train,Base_Model_Pred_Laso))\n",
    "\n",
    "temp_results.append(round(mean_squared_error(np.exp(y_train),np.exp(Base_Model_Pred_Laso))**0.5,0))\n",
    "\n",
    "Base_Model_Pred_Test_Laso = Base_Laso.predict(x_test)\n",
    "\n",
    "temp_results.append(r2_score(y_test,Base_Model_Pred_Test_Laso))\n",
    "\n",
    "temp_results.append(round(mean_squared_error(np.exp(y_test),np.exp(Base_Model_Pred_Test_Laso))**0.5,0))"
   ]
  },
  {
   "cell_type": "code",
   "execution_count": 87,
   "id": "5ffacfe6",
   "metadata": {},
   "outputs": [
    {
     "data": {
      "text/html": [
       "<div>\n",
       "<style scoped>\n",
       "    .dataframe tbody tr th:only-of-type {\n",
       "        vertical-align: middle;\n",
       "    }\n",
       "\n",
       "    .dataframe tbody tr th {\n",
       "        vertical-align: top;\n",
       "    }\n",
       "\n",
       "    .dataframe thead th {\n",
       "        text-align: right;\n",
       "    }\n",
       "</style>\n",
       "<table border=\"1\" class=\"dataframe\">\n",
       "  <thead>\n",
       "    <tr style=\"text-align: right;\">\n",
       "      <th></th>\n",
       "      <th>R2_Train</th>\n",
       "      <th>RMSE_Train</th>\n",
       "      <th>R2_Test</th>\n",
       "      <th>RMSE_Test</th>\n",
       "    </tr>\n",
       "  </thead>\n",
       "  <tbody>\n",
       "    <tr>\n",
       "      <th>Base LR Model</th>\n",
       "      <td>0.919872</td>\n",
       "      <td>21267.0</td>\n",
       "      <td>0.900467</td>\n",
       "      <td>20681.0</td>\n",
       "    </tr>\n",
       "    <tr>\n",
       "      <th>Base Ridge Model</th>\n",
       "      <td>0.919872</td>\n",
       "      <td>21267.0</td>\n",
       "      <td>0.900467</td>\n",
       "      <td>20681.0</td>\n",
       "    </tr>\n",
       "    <tr>\n",
       "      <th>Best Ridge Model</th>\n",
       "      <td>0.919078</td>\n",
       "      <td>21471.0</td>\n",
       "      <td>0.901191</td>\n",
       "      <td>20490.0</td>\n",
       "    </tr>\n",
       "    <tr>\n",
       "      <th>Base Laso Model</th>\n",
       "      <td>0.000000</td>\n",
       "      <td>82080.0</td>\n",
       "      <td>-0.001085</td>\n",
       "      <td>77106.0</td>\n",
       "    </tr>\n",
       "  </tbody>\n",
       "</table>\n",
       "</div>"
      ],
      "text/plain": [
       "                  R2_Train  RMSE_Train   R2_Test  RMSE_Test\n",
       "Base LR Model     0.919872     21267.0  0.900467    20681.0\n",
       "Base Ridge Model  0.919872     21267.0  0.900467    20681.0\n",
       "Best Ridge Model  0.919078     21471.0  0.901191    20490.0\n",
       "Base Laso Model   0.000000     82080.0 -0.001085    77106.0"
      ]
     },
     "execution_count": 87,
     "metadata": {},
     "output_type": "execute_result"
    }
   ],
   "source": [
    "results.loc['Base Laso Model'] = temp_results\n",
    "\n",
    "results"
   ]
  },
  {
   "cell_type": "code",
   "execution_count": 88,
   "id": "322fe33c",
   "metadata": {},
   "outputs": [
    {
     "data": {
      "text/plain": [
       "array([ 0.,  0.,  0., -0.,  0.,  0., -0.,  0.,  0.,  0.,  0.,  0., -0.,\n",
       "        0.,  0., -0.,  0.,  0.,  0., -0.,  0.,  0.,  0.,  0.,  0.,  0.,\n",
       "        0., -0.,  0.,  0.,  0., -0.,  0., -0., -0., -0.,  0.,  0., -0.,\n",
       "       -0.,  0.,  0., -0.,  0., -0., -0., -0.,  0.,  0.,  0., -0.,  0.,\n",
       "       -0., -0.,  0.,  0.,  0., -0., -0., -0.,  0.,  0., -0., -0.,  0.])"
      ]
     },
     "execution_count": 88,
     "metadata": {},
     "output_type": "execute_result"
    }
   ],
   "source": [
    "laso_reg.coef_"
   ]
  },
  {
   "cell_type": "markdown",
   "id": "c9e81556",
   "metadata": {},
   "source": [
    " "
   ]
  },
  {
   "cell_type": "markdown",
   "id": "c77ca9c5",
   "metadata": {},
   "source": [
    " "
   ]
  },
  {
   "cell_type": "markdown",
   "id": "d3d051ba",
   "metadata": {},
   "source": [
    "#### Best Laso Model "
   ]
  },
  {
   "cell_type": "code",
   "execution_count": 89,
   "id": "9f02d716",
   "metadata": {},
   "outputs": [
    {
     "name": "stdout",
     "output_type": "stream",
     "text": [
      "Fitting 5 folds for each of 28 candidates, totalling 140 fits\n"
     ]
    },
    {
     "data": {
      "text/plain": [
       "GridSearchCV(cv=5, estimator=Lasso(random_state=42),\n",
       "             param_grid={'alpha': [0.0001, 0.001, 0.01, 0.05, 0.1, 0.2, 0.3,\n",
       "                                   0.4, 0.5, 0.6, 0.7, 0.8, 0.9, 1.0, 2.0, 3.0,\n",
       "                                   4.0, 5.0, 6.0, 7.0, 8.0, 9.0, 10.0, 20, 50,\n",
       "                                   100, 500, 1000]},\n",
       "             return_train_score=True, scoring='neg_mean_squared_error',\n",
       "             verbose=1)"
      ]
     },
     "execution_count": 89,
     "metadata": {},
     "output_type": "execute_result"
    }
   ],
   "source": [
    "# list of alphas to tune - if value too high it will lead to underfitting, if it is too low, \n",
    "# it will not handle the overfitting\n",
    "params = {'alpha': [0.0001, 0.001, 0.01, 0.05, 0.1, \n",
    " 0.2, 0.3, 0.4, 0.5, 0.6, 0.7, 0.8, 0.9, 1.0, 2.0, 3.0, \n",
    " 4.0, 5.0, 6.0, 7.0, 8.0, 9.0, 10.0, 20, 50, 100, 500, 1000 ]}\n",
    "\n",
    "#ridge = Ridge()\n",
    "\n",
    "# cross validation\n",
    "folds = 5\n",
    "best_laso_model_cv = GridSearchCV(estimator = laso_reg, \n",
    "                        param_grid = params, \n",
    "                        scoring= 'neg_mean_squared_error',  \n",
    "                        cv = folds, \n",
    "                        return_train_score=True,\n",
    "                        verbose = 1)            \n",
    "\n",
    "best_laso_model_cv.fit(x_train, y_train) "
   ]
  },
  {
   "cell_type": "code",
   "execution_count": 90,
   "id": "3fb127e9",
   "metadata": {},
   "outputs": [
    {
     "data": {
      "text/plain": [
       "Lasso(alpha=0.001, random_state=42)"
      ]
     },
     "execution_count": 90,
     "metadata": {},
     "output_type": "execute_result"
    }
   ],
   "source": [
    "best_laso_model_cv.best_estimator_"
   ]
  },
  {
   "cell_type": "code",
   "execution_count": 91,
   "id": "4e67f566",
   "metadata": {},
   "outputs": [
    {
     "data": {
      "text/plain": [
       "-0.015184001335190225"
      ]
     },
     "execution_count": 91,
     "metadata": {},
     "output_type": "execute_result"
    }
   ],
   "source": [
    "best_laso_model_cv.best_score_"
   ]
  },
  {
   "cell_type": "code",
   "execution_count": 92,
   "id": "1cf4ca62",
   "metadata": {},
   "outputs": [],
   "source": [
    "laso_reg = Lasso(alpha=0.001, random_state=42)\n",
    "\n",
    "Best_Laso = laso_reg.fit(x_train,y_train)"
   ]
  },
  {
   "cell_type": "code",
   "execution_count": 93,
   "id": "f50b161c",
   "metadata": {},
   "outputs": [],
   "source": [
    "Best_Laso_Pred = Best_Laso.predict(x_train)\n",
    "\n",
    "temp_results = []\n",
    "\n",
    "temp_results.append(r2_score(y_train,Best_Laso_Pred))\n",
    "\n",
    "temp_results.append(round(mean_squared_error(np.exp(y_train),np.exp(Best_Ridge_Pred))**0.5,0))\n",
    "\n",
    "Best_Laso_Pred_Test = Best_Laso.predict(x_test)\n",
    "\n",
    "temp_results.append(r2_score(y_test,Best_Laso_Pred_Test))\n",
    "\n",
    "temp_results.append(round(mean_squared_error(np.exp(y_test),np.exp(Best_Laso_Pred_Test))**0.5,0))"
   ]
  },
  {
   "cell_type": "code",
   "execution_count": 94,
   "id": "9fcca6af",
   "metadata": {},
   "outputs": [
    {
     "data": {
      "text/html": [
       "<div>\n",
       "<style scoped>\n",
       "    .dataframe tbody tr th:only-of-type {\n",
       "        vertical-align: middle;\n",
       "    }\n",
       "\n",
       "    .dataframe tbody tr th {\n",
       "        vertical-align: top;\n",
       "    }\n",
       "\n",
       "    .dataframe thead th {\n",
       "        text-align: right;\n",
       "    }\n",
       "</style>\n",
       "<table border=\"1\" class=\"dataframe\">\n",
       "  <thead>\n",
       "    <tr style=\"text-align: right;\">\n",
       "      <th></th>\n",
       "      <th>R2_Train</th>\n",
       "      <th>RMSE_Train</th>\n",
       "      <th>R2_Test</th>\n",
       "      <th>RMSE_Test</th>\n",
       "    </tr>\n",
       "  </thead>\n",
       "  <tbody>\n",
       "    <tr>\n",
       "      <th>Base LR Model</th>\n",
       "      <td>0.919872</td>\n",
       "      <td>21267.0</td>\n",
       "      <td>0.900467</td>\n",
       "      <td>20681.0</td>\n",
       "    </tr>\n",
       "    <tr>\n",
       "      <th>Base Ridge Model</th>\n",
       "      <td>0.919872</td>\n",
       "      <td>21267.0</td>\n",
       "      <td>0.900467</td>\n",
       "      <td>20681.0</td>\n",
       "    </tr>\n",
       "    <tr>\n",
       "      <th>Best Ridge Model</th>\n",
       "      <td>0.919078</td>\n",
       "      <td>21471.0</td>\n",
       "      <td>0.901191</td>\n",
       "      <td>20490.0</td>\n",
       "    </tr>\n",
       "    <tr>\n",
       "      <th>Base Laso Model</th>\n",
       "      <td>0.000000</td>\n",
       "      <td>82080.0</td>\n",
       "      <td>-0.001085</td>\n",
       "      <td>77106.0</td>\n",
       "    </tr>\n",
       "    <tr>\n",
       "      <th>Best Laso Model</th>\n",
       "      <td>0.919034</td>\n",
       "      <td>21471.0</td>\n",
       "      <td>0.902861</td>\n",
       "      <td>20423.0</td>\n",
       "    </tr>\n",
       "  </tbody>\n",
       "</table>\n",
       "</div>"
      ],
      "text/plain": [
       "                  R2_Train  RMSE_Train   R2_Test  RMSE_Test\n",
       "Base LR Model     0.919872     21267.0  0.900467    20681.0\n",
       "Base Ridge Model  0.919872     21267.0  0.900467    20681.0\n",
       "Best Ridge Model  0.919078     21471.0  0.901191    20490.0\n",
       "Base Laso Model   0.000000     82080.0 -0.001085    77106.0\n",
       "Best Laso Model   0.919034     21471.0  0.902861    20423.0"
      ]
     },
     "execution_count": 94,
     "metadata": {},
     "output_type": "execute_result"
    }
   ],
   "source": [
    "results.loc['Best Laso Model'] = temp_results\n",
    "\n",
    "results"
   ]
  },
  {
   "cell_type": "markdown",
   "id": "a2716d23",
   "metadata": {},
   "source": [
    " "
   ]
  },
  {
   "cell_type": "markdown",
   "id": "5d8baadd",
   "metadata": {},
   "source": [
    " "
   ]
  },
  {
   "cell_type": "code",
   "execution_count": 95,
   "id": "017f40e7",
   "metadata": {
    "id": "BzmTLPRdhiwV"
   },
   "outputs": [],
   "source": [
    "betas = pd.DataFrame(index=x.columns)"
   ]
  },
  {
   "cell_type": "code",
   "execution_count": 96,
   "id": "dbe16c02",
   "metadata": {
    "id": "LBRaw8QphiwV"
   },
   "outputs": [],
   "source": [
    "betas.rows = x.columns"
   ]
  },
  {
   "cell_type": "code",
   "execution_count": 97,
   "id": "cff8086a",
   "metadata": {
    "id": "tSHNso5RhiwV"
   },
   "outputs": [],
   "source": [
    "betas['Linear'] = lin_rig.coef_\n",
    "betas['Ridge'] = rig_reg.coef_\n",
    "betas['Lasso'] = laso_reg.coef_"
   ]
  },
  {
   "cell_type": "code",
   "execution_count": 98,
   "id": "f7fed066",
   "metadata": {
    "id": "zL2srCWqhiwV",
    "outputId": "52651d6f-9198-428a-cb9c-5b42aa0846a3"
   },
   "outputs": [
    {
     "data": {
      "text/html": [
       "<div>\n",
       "<style scoped>\n",
       "    .dataframe tbody tr th:only-of-type {\n",
       "        vertical-align: middle;\n",
       "    }\n",
       "\n",
       "    .dataframe tbody tr th {\n",
       "        vertical-align: top;\n",
       "    }\n",
       "\n",
       "    .dataframe thead th {\n",
       "        text-align: right;\n",
       "    }\n",
       "</style>\n",
       "<table border=\"1\" class=\"dataframe\">\n",
       "  <thead>\n",
       "    <tr style=\"text-align: right;\">\n",
       "      <th></th>\n",
       "      <th>Linear</th>\n",
       "      <th>Ridge</th>\n",
       "      <th>Lasso</th>\n",
       "    </tr>\n",
       "  </thead>\n",
       "  <tbody>\n",
       "    <tr>\n",
       "      <th>LotFrontage</th>\n",
       "      <td>1.697186e-02</td>\n",
       "      <td>0.016746</td>\n",
       "      <td>0.015703</td>\n",
       "    </tr>\n",
       "    <tr>\n",
       "      <th>LotArea</th>\n",
       "      <td>1.976453e-02</td>\n",
       "      <td>0.018420</td>\n",
       "      <td>0.018577</td>\n",
       "    </tr>\n",
       "    <tr>\n",
       "      <th>OverallQual</th>\n",
       "      <td>7.581189e-02</td>\n",
       "      <td>0.071980</td>\n",
       "      <td>0.078433</td>\n",
       "    </tr>\n",
       "    <tr>\n",
       "      <th>OverallCond</th>\n",
       "      <td>5.176465e-02</td>\n",
       "      <td>0.045808</td>\n",
       "      <td>0.050300</td>\n",
       "    </tr>\n",
       "    <tr>\n",
       "      <th>ExterQual</th>\n",
       "      <td>6.294318e-03</td>\n",
       "      <td>0.010456</td>\n",
       "      <td>0.006877</td>\n",
       "    </tr>\n",
       "    <tr>\n",
       "      <th>BsmtFinSF1</th>\n",
       "      <td>-3.981298e+10</td>\n",
       "      <td>0.034956</td>\n",
       "      <td>0.035705</td>\n",
       "    </tr>\n",
       "    <tr>\n",
       "      <th>BsmtFinSF2</th>\n",
       "      <td>-1.484319e+10</td>\n",
       "      <td>0.004680</td>\n",
       "      <td>0.004014</td>\n",
       "    </tr>\n",
       "    <tr>\n",
       "      <th>BsmtUnfSF</th>\n",
       "      <td>-4.065142e+10</td>\n",
       "      <td>0.000064</td>\n",
       "      <td>-0.000000</td>\n",
       "    </tr>\n",
       "    <tr>\n",
       "      <th>TotalBsmtSF</th>\n",
       "      <td>3.815904e+10</td>\n",
       "      <td>0.038360</td>\n",
       "      <td>0.039000</td>\n",
       "    </tr>\n",
       "    <tr>\n",
       "      <th>HeatingQC</th>\n",
       "      <td>1.039290e-02</td>\n",
       "      <td>0.011528</td>\n",
       "      <td>0.010022</td>\n",
       "    </tr>\n",
       "    <tr>\n",
       "      <th>1stFlrSF</th>\n",
       "      <td>-1.173707e+11</td>\n",
       "      <td>0.038378</td>\n",
       "      <td>0.010100</td>\n",
       "    </tr>\n",
       "    <tr>\n",
       "      <th>2ndFlrSF</th>\n",
       "      <td>-1.373672e+11</td>\n",
       "      <td>0.031515</td>\n",
       "      <td>0.000000</td>\n",
       "    </tr>\n",
       "    <tr>\n",
       "      <th>LowQualFinSF</th>\n",
       "      <td>-1.534994e+10</td>\n",
       "      <td>0.002607</td>\n",
       "      <td>-0.000000</td>\n",
       "    </tr>\n",
       "    <tr>\n",
       "      <th>GrLivArea</th>\n",
       "      <td>1.602251e+11</td>\n",
       "      <td>0.055382</td>\n",
       "      <td>0.104687</td>\n",
       "    </tr>\n",
       "    <tr>\n",
       "      <th>BsmtFullBath</th>\n",
       "      <td>1.454163e-02</td>\n",
       "      <td>0.015433</td>\n",
       "      <td>0.014529</td>\n",
       "    </tr>\n",
       "    <tr>\n",
       "      <th>BsmtHalfBath</th>\n",
       "      <td>-1.715183e-03</td>\n",
       "      <td>-0.001489</td>\n",
       "      <td>-0.001209</td>\n",
       "    </tr>\n",
       "    <tr>\n",
       "      <th>FullBath</th>\n",
       "      <td>1.511765e-02</td>\n",
       "      <td>0.017462</td>\n",
       "      <td>0.011807</td>\n",
       "    </tr>\n",
       "    <tr>\n",
       "      <th>HalfBath</th>\n",
       "      <td>1.579380e-02</td>\n",
       "      <td>0.016293</td>\n",
       "      <td>0.012625</td>\n",
       "    </tr>\n",
       "    <tr>\n",
       "      <th>BedroomAbvGr</th>\n",
       "      <td>-1.016045e-02</td>\n",
       "      <td>-0.006559</td>\n",
       "      <td>-0.006561</td>\n",
       "    </tr>\n",
       "    <tr>\n",
       "      <th>KitchenAbvGr</th>\n",
       "      <td>-1.171494e-02</td>\n",
       "      <td>-0.012389</td>\n",
       "      <td>-0.012260</td>\n",
       "    </tr>\n",
       "    <tr>\n",
       "      <th>KitchenQual</th>\n",
       "      <td>1.419210e-02</td>\n",
       "      <td>0.016893</td>\n",
       "      <td>0.015437</td>\n",
       "    </tr>\n",
       "    <tr>\n",
       "      <th>TotRmsAbvGrd</th>\n",
       "      <td>2.856445e-02</td>\n",
       "      <td>0.027630</td>\n",
       "      <td>0.023311</td>\n",
       "    </tr>\n",
       "    <tr>\n",
       "      <th>Fireplaces</th>\n",
       "      <td>2.060461e-02</td>\n",
       "      <td>0.021614</td>\n",
       "      <td>0.020451</td>\n",
       "    </tr>\n",
       "    <tr>\n",
       "      <th>GarageCars</th>\n",
       "      <td>3.285885e-02</td>\n",
       "      <td>0.031084</td>\n",
       "      <td>0.031877</td>\n",
       "    </tr>\n",
       "    <tr>\n",
       "      <th>GarageArea</th>\n",
       "      <td>1.719236e-02</td>\n",
       "      <td>0.021197</td>\n",
       "      <td>0.019111</td>\n",
       "    </tr>\n",
       "    <tr>\n",
       "      <th>WoodDeckSF</th>\n",
       "      <td>1.017094e-02</td>\n",
       "      <td>0.010586</td>\n",
       "      <td>0.009393</td>\n",
       "    </tr>\n",
       "    <tr>\n",
       "      <th>OpenPorchSF</th>\n",
       "      <td>5.828857e-03</td>\n",
       "      <td>0.006602</td>\n",
       "      <td>0.005830</td>\n",
       "    </tr>\n",
       "    <tr>\n",
       "      <th>EnclosedPorch</th>\n",
       "      <td>1.146269e-02</td>\n",
       "      <td>0.008982</td>\n",
       "      <td>0.008836</td>\n",
       "    </tr>\n",
       "    <tr>\n",
       "      <th>3SsnPorch</th>\n",
       "      <td>6.141663e-03</td>\n",
       "      <td>0.006149</td>\n",
       "      <td>0.005428</td>\n",
       "    </tr>\n",
       "    <tr>\n",
       "      <th>ScreenPorch</th>\n",
       "      <td>1.021767e-02</td>\n",
       "      <td>0.010071</td>\n",
       "      <td>0.009194</td>\n",
       "    </tr>\n",
       "    <tr>\n",
       "      <th>PoolArea</th>\n",
       "      <td>1.716614e-04</td>\n",
       "      <td>0.000555</td>\n",
       "      <td>0.000000</td>\n",
       "    </tr>\n",
       "    <tr>\n",
       "      <th>MiscVal</th>\n",
       "      <td>-1.248360e-02</td>\n",
       "      <td>-0.009746</td>\n",
       "      <td>-0.008420</td>\n",
       "    </tr>\n",
       "    <tr>\n",
       "      <th>MoSold</th>\n",
       "      <td>5.245209e-05</td>\n",
       "      <td>-0.000019</td>\n",
       "      <td>0.000000</td>\n",
       "    </tr>\n",
       "    <tr>\n",
       "      <th>HouseAge</th>\n",
       "      <td>-6.682587e-02</td>\n",
       "      <td>-0.047939</td>\n",
       "      <td>-0.059791</td>\n",
       "    </tr>\n",
       "    <tr>\n",
       "      <th>AgeRemodel</th>\n",
       "      <td>-7.231236e-03</td>\n",
       "      <td>-0.011414</td>\n",
       "      <td>-0.007969</td>\n",
       "    </tr>\n",
       "    <tr>\n",
       "      <th>MSSubClass_50</th>\n",
       "      <td>-2.045441e-02</td>\n",
       "      <td>-0.014513</td>\n",
       "      <td>-0.009385</td>\n",
       "    </tr>\n",
       "    <tr>\n",
       "      <th>MSSubClass_60</th>\n",
       "      <td>-5.544662e-03</td>\n",
       "      <td>0.001099</td>\n",
       "      <td>-0.000000</td>\n",
       "    </tr>\n",
       "    <tr>\n",
       "      <th>MSSubClass_120</th>\n",
       "      <td>-5.082130e-03</td>\n",
       "      <td>-0.003065</td>\n",
       "      <td>-0.001270</td>\n",
       "    </tr>\n",
       "    <tr>\n",
       "      <th>MSSubClass_Others</th>\n",
       "      <td>-2.663898e-02</td>\n",
       "      <td>-0.021945</td>\n",
       "      <td>-0.017739</td>\n",
       "    </tr>\n",
       "    <tr>\n",
       "      <th>LotShape_Reg</th>\n",
       "      <td>-8.913040e-03</td>\n",
       "      <td>-0.009713</td>\n",
       "      <td>-0.008913</td>\n",
       "    </tr>\n",
       "    <tr>\n",
       "      <th>Neighborhood_CollgCr</th>\n",
       "      <td>-1.531506e-02</td>\n",
       "      <td>-0.003622</td>\n",
       "      <td>-0.000000</td>\n",
       "    </tr>\n",
       "    <tr>\n",
       "      <th>Neighborhood_Crawfor</th>\n",
       "      <td>1.609421e-02</td>\n",
       "      <td>0.020391</td>\n",
       "      <td>0.021538</td>\n",
       "    </tr>\n",
       "    <tr>\n",
       "      <th>Neighborhood_Edwards</th>\n",
       "      <td>-1.633835e-02</td>\n",
       "      <td>-0.009240</td>\n",
       "      <td>-0.004699</td>\n",
       "    </tr>\n",
       "    <tr>\n",
       "      <th>Neighborhood_Gilbert</th>\n",
       "      <td>-1.665688e-02</td>\n",
       "      <td>-0.007268</td>\n",
       "      <td>-0.003149</td>\n",
       "    </tr>\n",
       "    <tr>\n",
       "      <th>Neighborhood_IDOTRR</th>\n",
       "      <td>-1.939392e-02</td>\n",
       "      <td>-0.016259</td>\n",
       "      <td>-0.013713</td>\n",
       "    </tr>\n",
       "    <tr>\n",
       "      <th>Neighborhood_Mitchel</th>\n",
       "      <td>-1.225090e-02</td>\n",
       "      <td>-0.005442</td>\n",
       "      <td>-0.002880</td>\n",
       "    </tr>\n",
       "    <tr>\n",
       "      <th>Neighborhood_NAmes</th>\n",
       "      <td>-1.567268e-02</td>\n",
       "      <td>-0.005026</td>\n",
       "      <td>-0.000000</td>\n",
       "    </tr>\n",
       "    <tr>\n",
       "      <th>Neighborhood_NWAmes</th>\n",
       "      <td>-1.822281e-02</td>\n",
       "      <td>-0.009725</td>\n",
       "      <td>-0.006469</td>\n",
       "    </tr>\n",
       "    <tr>\n",
       "      <th>Neighborhood_NoRidge</th>\n",
       "      <td>-9.168625e-03</td>\n",
       "      <td>-0.001137</td>\n",
       "      <td>-0.000000</td>\n",
       "    </tr>\n",
       "    <tr>\n",
       "      <th>Neighborhood_NridgHt</th>\n",
       "      <td>2.413750e-03</td>\n",
       "      <td>0.011117</td>\n",
       "      <td>0.012411</td>\n",
       "    </tr>\n",
       "    <tr>\n",
       "      <th>Neighborhood_OldTown</th>\n",
       "      <td>-2.285576e-02</td>\n",
       "      <td>-0.017074</td>\n",
       "      <td>-0.013013</td>\n",
       "    </tr>\n",
       "    <tr>\n",
       "      <th>Neighborhood_Other</th>\n",
       "      <td>-9.049416e-03</td>\n",
       "      <td>0.001364</td>\n",
       "      <td>0.002633</td>\n",
       "    </tr>\n",
       "    <tr>\n",
       "      <th>Neighborhood_Sawyer</th>\n",
       "      <td>-1.169276e-02</td>\n",
       "      <td>-0.005463</td>\n",
       "      <td>-0.000773</td>\n",
       "    </tr>\n",
       "    <tr>\n",
       "      <th>Neighborhood_SawyerW</th>\n",
       "      <td>-1.615381e-02</td>\n",
       "      <td>-0.008532</td>\n",
       "      <td>-0.005288</td>\n",
       "    </tr>\n",
       "    <tr>\n",
       "      <th>Neighborhood_Somerst</th>\n",
       "      <td>-1.324654e-03</td>\n",
       "      <td>0.007482</td>\n",
       "      <td>0.009114</td>\n",
       "    </tr>\n",
       "    <tr>\n",
       "      <th>Neighborhood_Timber</th>\n",
       "      <td>-9.160995e-03</td>\n",
       "      <td>-0.002286</td>\n",
       "      <td>-0.000000</td>\n",
       "    </tr>\n",
       "    <tr>\n",
       "      <th>HouseStyle_2Story</th>\n",
       "      <td>-3.433228e-03</td>\n",
       "      <td>-0.000867</td>\n",
       "      <td>-0.000000</td>\n",
       "    </tr>\n",
       "    <tr>\n",
       "      <th>HouseStyle_Others</th>\n",
       "      <td>1.358795e-02</td>\n",
       "      <td>0.011347</td>\n",
       "      <td>0.006847</td>\n",
       "    </tr>\n",
       "    <tr>\n",
       "      <th>Exterior1st_MetalSd</th>\n",
       "      <td>5.834579e-03</td>\n",
       "      <td>0.005260</td>\n",
       "      <td>0.006265</td>\n",
       "    </tr>\n",
       "    <tr>\n",
       "      <th>Exterior1st_Others</th>\n",
       "      <td>4.577637e-03</td>\n",
       "      <td>0.004406</td>\n",
       "      <td>0.005713</td>\n",
       "    </tr>\n",
       "    <tr>\n",
       "      <th>Exterior1st_Plywood</th>\n",
       "      <td>-1.029968e-03</td>\n",
       "      <td>-0.000892</td>\n",
       "      <td>-0.000000</td>\n",
       "    </tr>\n",
       "    <tr>\n",
       "      <th>Exterior1st_VinylSd</th>\n",
       "      <td>-3.558159e-03</td>\n",
       "      <td>-0.003126</td>\n",
       "      <td>-0.000162</td>\n",
       "    </tr>\n",
       "    <tr>\n",
       "      <th>Exterior1st_Wd Sdng</th>\n",
       "      <td>-3.177643e-03</td>\n",
       "      <td>-0.004054</td>\n",
       "      <td>-0.000406</td>\n",
       "    </tr>\n",
       "    <tr>\n",
       "      <th>Foundation_Others</th>\n",
       "      <td>4.833221e-03</td>\n",
       "      <td>0.001452</td>\n",
       "      <td>0.001516</td>\n",
       "    </tr>\n",
       "    <tr>\n",
       "      <th>Foundation_PConc</th>\n",
       "      <td>2.807808e-02</td>\n",
       "      <td>0.026050</td>\n",
       "      <td>0.024751</td>\n",
       "    </tr>\n",
       "  </tbody>\n",
       "</table>\n",
       "</div>"
      ],
      "text/plain": [
       "                            Linear     Ridge     Lasso\n",
       "LotFrontage           1.697186e-02  0.016746  0.015703\n",
       "LotArea               1.976453e-02  0.018420  0.018577\n",
       "OverallQual           7.581189e-02  0.071980  0.078433\n",
       "OverallCond           5.176465e-02  0.045808  0.050300\n",
       "ExterQual             6.294318e-03  0.010456  0.006877\n",
       "BsmtFinSF1           -3.981298e+10  0.034956  0.035705\n",
       "BsmtFinSF2           -1.484319e+10  0.004680  0.004014\n",
       "BsmtUnfSF            -4.065142e+10  0.000064 -0.000000\n",
       "TotalBsmtSF           3.815904e+10  0.038360  0.039000\n",
       "HeatingQC             1.039290e-02  0.011528  0.010022\n",
       "1stFlrSF             -1.173707e+11  0.038378  0.010100\n",
       "2ndFlrSF             -1.373672e+11  0.031515  0.000000\n",
       "LowQualFinSF         -1.534994e+10  0.002607 -0.000000\n",
       "GrLivArea             1.602251e+11  0.055382  0.104687\n",
       "BsmtFullBath          1.454163e-02  0.015433  0.014529\n",
       "BsmtHalfBath         -1.715183e-03 -0.001489 -0.001209\n",
       "FullBath              1.511765e-02  0.017462  0.011807\n",
       "HalfBath              1.579380e-02  0.016293  0.012625\n",
       "BedroomAbvGr         -1.016045e-02 -0.006559 -0.006561\n",
       "KitchenAbvGr         -1.171494e-02 -0.012389 -0.012260\n",
       "KitchenQual           1.419210e-02  0.016893  0.015437\n",
       "TotRmsAbvGrd          2.856445e-02  0.027630  0.023311\n",
       "Fireplaces            2.060461e-02  0.021614  0.020451\n",
       "GarageCars            3.285885e-02  0.031084  0.031877\n",
       "GarageArea            1.719236e-02  0.021197  0.019111\n",
       "WoodDeckSF            1.017094e-02  0.010586  0.009393\n",
       "OpenPorchSF           5.828857e-03  0.006602  0.005830\n",
       "EnclosedPorch         1.146269e-02  0.008982  0.008836\n",
       "3SsnPorch             6.141663e-03  0.006149  0.005428\n",
       "ScreenPorch           1.021767e-02  0.010071  0.009194\n",
       "PoolArea              1.716614e-04  0.000555  0.000000\n",
       "MiscVal              -1.248360e-02 -0.009746 -0.008420\n",
       "MoSold                5.245209e-05 -0.000019  0.000000\n",
       "HouseAge             -6.682587e-02 -0.047939 -0.059791\n",
       "AgeRemodel           -7.231236e-03 -0.011414 -0.007969\n",
       "MSSubClass_50        -2.045441e-02 -0.014513 -0.009385\n",
       "MSSubClass_60        -5.544662e-03  0.001099 -0.000000\n",
       "MSSubClass_120       -5.082130e-03 -0.003065 -0.001270\n",
       "MSSubClass_Others    -2.663898e-02 -0.021945 -0.017739\n",
       "LotShape_Reg         -8.913040e-03 -0.009713 -0.008913\n",
       "Neighborhood_CollgCr -1.531506e-02 -0.003622 -0.000000\n",
       "Neighborhood_Crawfor  1.609421e-02  0.020391  0.021538\n",
       "Neighborhood_Edwards -1.633835e-02 -0.009240 -0.004699\n",
       "Neighborhood_Gilbert -1.665688e-02 -0.007268 -0.003149\n",
       "Neighborhood_IDOTRR  -1.939392e-02 -0.016259 -0.013713\n",
       "Neighborhood_Mitchel -1.225090e-02 -0.005442 -0.002880\n",
       "Neighborhood_NAmes   -1.567268e-02 -0.005026 -0.000000\n",
       "Neighborhood_NWAmes  -1.822281e-02 -0.009725 -0.006469\n",
       "Neighborhood_NoRidge -9.168625e-03 -0.001137 -0.000000\n",
       "Neighborhood_NridgHt  2.413750e-03  0.011117  0.012411\n",
       "Neighborhood_OldTown -2.285576e-02 -0.017074 -0.013013\n",
       "Neighborhood_Other   -9.049416e-03  0.001364  0.002633\n",
       "Neighborhood_Sawyer  -1.169276e-02 -0.005463 -0.000773\n",
       "Neighborhood_SawyerW -1.615381e-02 -0.008532 -0.005288\n",
       "Neighborhood_Somerst -1.324654e-03  0.007482  0.009114\n",
       "Neighborhood_Timber  -9.160995e-03 -0.002286 -0.000000\n",
       "HouseStyle_2Story    -3.433228e-03 -0.000867 -0.000000\n",
       "HouseStyle_Others     1.358795e-02  0.011347  0.006847\n",
       "Exterior1st_MetalSd   5.834579e-03  0.005260  0.006265\n",
       "Exterior1st_Others    4.577637e-03  0.004406  0.005713\n",
       "Exterior1st_Plywood  -1.029968e-03 -0.000892 -0.000000\n",
       "Exterior1st_VinylSd  -3.558159e-03 -0.003126 -0.000162\n",
       "Exterior1st_Wd Sdng  -3.177643e-03 -0.004054 -0.000406\n",
       "Foundation_Others     4.833221e-03  0.001452  0.001516\n",
       "Foundation_PConc      2.807808e-02  0.026050  0.024751"
      ]
     },
     "execution_count": 98,
     "metadata": {},
     "output_type": "execute_result"
    }
   ],
   "source": [
    "pd.set_option('display.max_rows', None)\n",
    "betas.head(68)"
   ]
  },
  {
   "cell_type": "markdown",
   "id": "7f3b833b",
   "metadata": {},
   "source": [
    " "
   ]
  },
  {
   "cell_type": "code",
   "execution_count": 99,
   "id": "abd46a05",
   "metadata": {},
   "outputs": [
    {
     "data": {
      "text/plain": [
       "GrLivArea     1.602251e+11\n",
       "2ndFlrSF     -1.373672e+11\n",
       "1stFlrSF     -1.173707e+11\n",
       "BsmtUnfSF    -4.065142e+10\n",
       "BsmtFinSF1   -3.981298e+10\n",
       "Name: Linear, dtype: float64"
      ]
     },
     "execution_count": 99,
     "metadata": {},
     "output_type": "execute_result"
    }
   ],
   "source": [
    "best_Linear = abs(betas[['Linear']]).sort_values(by='Linear', ascending=False).head().index\n",
    "\n",
    "betas.loc[best_Linear,'Linear']"
   ]
  },
  {
   "cell_type": "code",
   "execution_count": 100,
   "id": "b28c54e1",
   "metadata": {},
   "outputs": [
    {
     "data": {
      "text/plain": [
       "OverallQual    0.071980\n",
       "GrLivArea      0.055382\n",
       "HouseAge      -0.047939\n",
       "OverallCond    0.045808\n",
       "1stFlrSF       0.038378\n",
       "Name: Ridge, dtype: float64"
      ]
     },
     "execution_count": 100,
     "metadata": {},
     "output_type": "execute_result"
    }
   ],
   "source": [
    "best_ridge = abs(betas[['Ridge']]).sort_values(by='Ridge', ascending=False).head().index\n",
    "\n",
    "betas.loc[best_ridge,'Ridge']"
   ]
  },
  {
   "cell_type": "code",
   "execution_count": 101,
   "id": "f56c3580",
   "metadata": {},
   "outputs": [
    {
     "data": {
      "text/plain": [
       "GrLivArea      0.104687\n",
       "OverallQual    0.078433\n",
       "HouseAge      -0.059791\n",
       "OverallCond    0.050300\n",
       "TotalBsmtSF    0.039000\n",
       "Name: Lasso, dtype: float64"
      ]
     },
     "execution_count": 101,
     "metadata": {},
     "output_type": "execute_result"
    }
   ],
   "source": [
    "best_lasso = abs(betas[['Lasso']]).sort_values(by='Lasso', ascending=False).head().index\n",
    "\n",
    "betas.loc[best_lasso,'Lasso']"
   ]
  },
  {
   "cell_type": "markdown",
   "id": "95d1a0f1",
   "metadata": {},
   "source": [
    " "
   ]
  },
  {
   "cell_type": "markdown",
   "id": "2116b19e",
   "metadata": {},
   "source": [
    " "
   ]
  },
  {
   "cell_type": "markdown",
   "id": "97fec49b",
   "metadata": {},
   "source": [
    "# Subjective Questions"
   ]
  },
  {
   "cell_type": "markdown",
   "id": "e16f1c68",
   "metadata": {},
   "source": [
    "#### Question 1 - Ridge"
   ]
  },
  {
   "cell_type": "code",
   "execution_count": 102,
   "id": "ffc600cb",
   "metadata": {},
   "outputs": [],
   "source": [
    "rig_reg = Ridge(alpha=100, random_state=42)\n",
    "\n",
    "Best_Ridge_2alpha = rig_reg.fit(x_train,y_train)"
   ]
  },
  {
   "cell_type": "code",
   "execution_count": 103,
   "id": "09d9ddd7",
   "metadata": {},
   "outputs": [],
   "source": [
    "Best_Ridge_Pred_2alpha = Best_Ridge_2alpha.predict(x_train)\n",
    "\n",
    "temp_results = []\n",
    "\n",
    "temp_results.append(r2_score(y_train,Best_Ridge_Pred_2alpha))\n",
    "\n",
    "temp_results.append(round(mean_squared_error(np.exp(y_train),np.exp(Best_Ridge_Pred_2alpha))**0.5,0))\n",
    "\n",
    "Best_Ridge_Pred_Test_2alpha = Best_Ridge_2alpha.predict(x_test)\n",
    "\n",
    "temp_results.append(r2_score(y_test,Best_Ridge_Pred_Test_2alpha))\n",
    "\n",
    "temp_results.append(round(mean_squared_error(np.exp(y_test),np.exp(Best_Ridge_Pred_Test_2alpha))**0.5))"
   ]
  },
  {
   "cell_type": "code",
   "execution_count": 104,
   "id": "69e33cbe",
   "metadata": {},
   "outputs": [
    {
     "data": {
      "text/html": [
       "<div>\n",
       "<style scoped>\n",
       "    .dataframe tbody tr th:only-of-type {\n",
       "        vertical-align: middle;\n",
       "    }\n",
       "\n",
       "    .dataframe tbody tr th {\n",
       "        vertical-align: top;\n",
       "    }\n",
       "\n",
       "    .dataframe thead th {\n",
       "        text-align: right;\n",
       "    }\n",
       "</style>\n",
       "<table border=\"1\" class=\"dataframe\">\n",
       "  <thead>\n",
       "    <tr style=\"text-align: right;\">\n",
       "      <th></th>\n",
       "      <th>R2_Train</th>\n",
       "      <th>RMSE_Train</th>\n",
       "      <th>R2_Test</th>\n",
       "      <th>RMSE_Test</th>\n",
       "    </tr>\n",
       "  </thead>\n",
       "  <tbody>\n",
       "    <tr>\n",
       "      <th>Base LR Model</th>\n",
       "      <td>0.919872</td>\n",
       "      <td>21267.0</td>\n",
       "      <td>0.900467</td>\n",
       "      <td>20681.0</td>\n",
       "    </tr>\n",
       "    <tr>\n",
       "      <th>Base Ridge Model</th>\n",
       "      <td>0.919872</td>\n",
       "      <td>21267.0</td>\n",
       "      <td>0.900467</td>\n",
       "      <td>20681.0</td>\n",
       "    </tr>\n",
       "    <tr>\n",
       "      <th>Best Ridge Model</th>\n",
       "      <td>0.919078</td>\n",
       "      <td>21471.0</td>\n",
       "      <td>0.901191</td>\n",
       "      <td>20490.0</td>\n",
       "    </tr>\n",
       "    <tr>\n",
       "      <th>Base Laso Model</th>\n",
       "      <td>0.000000</td>\n",
       "      <td>82080.0</td>\n",
       "      <td>-0.001085</td>\n",
       "      <td>77106.0</td>\n",
       "    </tr>\n",
       "    <tr>\n",
       "      <th>Best Laso Model</th>\n",
       "      <td>0.919034</td>\n",
       "      <td>21471.0</td>\n",
       "      <td>0.902861</td>\n",
       "      <td>20423.0</td>\n",
       "    </tr>\n",
       "    <tr>\n",
       "      <th>Best Ridge Double Alpha</th>\n",
       "      <td>0.917939</td>\n",
       "      <td>21709.0</td>\n",
       "      <td>0.900580</td>\n",
       "      <td>20461.0</td>\n",
       "    </tr>\n",
       "  </tbody>\n",
       "</table>\n",
       "</div>"
      ],
      "text/plain": [
       "                         R2_Train  RMSE_Train   R2_Test  RMSE_Test\n",
       "Base LR Model            0.919872     21267.0  0.900467    20681.0\n",
       "Base Ridge Model         0.919872     21267.0  0.900467    20681.0\n",
       "Best Ridge Model         0.919078     21471.0  0.901191    20490.0\n",
       "Base Laso Model          0.000000     82080.0 -0.001085    77106.0\n",
       "Best Laso Model          0.919034     21471.0  0.902861    20423.0\n",
       "Best Ridge Double Alpha  0.917939     21709.0  0.900580    20461.0"
      ]
     },
     "execution_count": 104,
     "metadata": {},
     "output_type": "execute_result"
    }
   ],
   "source": [
    "results.loc['Best Ridge Double Alpha'] = temp_results\n",
    "\n",
    "results"
   ]
  },
  {
   "cell_type": "code",
   "execution_count": 105,
   "id": "0e2e8e2e",
   "metadata": {},
   "outputs": [],
   "source": [
    "double_alpha = pd.DataFrame(index=x_train.columns)\n",
    "double_alpha['Ridge'] = rig_reg.coef_"
   ]
  },
  {
   "cell_type": "code",
   "execution_count": 106,
   "id": "a9bea9c8",
   "metadata": {},
   "outputs": [
    {
     "data": {
      "text/plain": [
       "OverallQual    0.068270\n",
       "GrLivArea      0.051523\n",
       "OverallCond    0.041635\n",
       "HouseAge      -0.039602\n",
       "1stFlrSF       0.038176\n",
       "Name: Ridge, dtype: float64"
      ]
     },
     "execution_count": 106,
     "metadata": {},
     "output_type": "execute_result"
    }
   ],
   "source": [
    "best_ridge_double = abs(double_alpha[['Ridge']]).sort_values(by='Ridge', ascending=False).head().index\n",
    "\n",
    "double_alpha.loc[best_ridge_double,'Ridge']"
   ]
  },
  {
   "cell_type": "markdown",
   "id": "f4a0d534",
   "metadata": {},
   "source": [
    " "
   ]
  },
  {
   "cell_type": "markdown",
   "id": "42fbc111",
   "metadata": {},
   "source": [
    "#### Question 1 - Lasso"
   ]
  },
  {
   "cell_type": "code",
   "execution_count": 107,
   "id": "fba7ad5e",
   "metadata": {},
   "outputs": [],
   "source": [
    "lasso_reg = Lasso(alpha=0.002, random_state=42)\n",
    "\n",
    "Best_Lasso_2alpha = lasso_reg.fit(x_train,y_train)"
   ]
  },
  {
   "cell_type": "code",
   "execution_count": 108,
   "id": "7b7a61fb",
   "metadata": {},
   "outputs": [],
   "source": [
    "Best_Lasso_Pred_2alpha = Best_Lasso_2alpha.predict(x_train)\n",
    "\n",
    "temp_results = []\n",
    "\n",
    "temp_results.append(r2_score(y_train,Best_Lasso_Pred_2alpha))\n",
    "\n",
    "temp_results.append(round(mean_squared_error(np.exp(y_train),np.exp(Best_Lasso_Pred_2alpha))**0.5))\n",
    "\n",
    "Best_Lasso_Pred_Test_2alpha = Best_Lasso_2alpha.predict(x_test)\n",
    "\n",
    "temp_results.append(r2_score(y_test,Best_Lasso_Pred_Test_2alpha))\n",
    "\n",
    "temp_results.append(round(mean_squared_error(np.exp(y_test),np.exp(Best_Lasso_Pred_Test_2alpha))**0.5))"
   ]
  },
  {
   "cell_type": "code",
   "execution_count": 109,
   "id": "43d1aac5",
   "metadata": {},
   "outputs": [],
   "source": [
    "double_alpha['Lasso'] = lasso_reg.coef_"
   ]
  },
  {
   "cell_type": "code",
   "execution_count": 110,
   "id": "efe04f10",
   "metadata": {},
   "outputs": [
    {
     "data": {
      "text/plain": [
       "GrLivArea      0.106858\n",
       "OverallQual    0.081386\n",
       "HouseAge      -0.058611\n",
       "OverallCond    0.048120\n",
       "TotalBsmtSF    0.038351\n",
       "Name: Lasso, dtype: float64"
      ]
     },
     "execution_count": 110,
     "metadata": {},
     "output_type": "execute_result"
    }
   ],
   "source": [
    "best_lasso_double = abs(double_alpha[['Lasso']]).sort_values(by='Lasso', ascending=False).head().index\n",
    "\n",
    "double_alpha.loc[best_lasso_double,'Lasso']"
   ]
  },
  {
   "cell_type": "code",
   "execution_count": 111,
   "id": "5df1bb50",
   "metadata": {},
   "outputs": [
    {
     "data": {
      "text/html": [
       "<div>\n",
       "<style scoped>\n",
       "    .dataframe tbody tr th:only-of-type {\n",
       "        vertical-align: middle;\n",
       "    }\n",
       "\n",
       "    .dataframe tbody tr th {\n",
       "        vertical-align: top;\n",
       "    }\n",
       "\n",
       "    .dataframe thead th {\n",
       "        text-align: right;\n",
       "    }\n",
       "</style>\n",
       "<table border=\"1\" class=\"dataframe\">\n",
       "  <thead>\n",
       "    <tr style=\"text-align: right;\">\n",
       "      <th></th>\n",
       "      <th>R2_Train</th>\n",
       "      <th>RMSE_Train</th>\n",
       "      <th>R2_Test</th>\n",
       "      <th>RMSE_Test</th>\n",
       "    </tr>\n",
       "  </thead>\n",
       "  <tbody>\n",
       "    <tr>\n",
       "      <th>Base LR Model</th>\n",
       "      <td>0.919872</td>\n",
       "      <td>21267.0</td>\n",
       "      <td>0.900467</td>\n",
       "      <td>20681.0</td>\n",
       "    </tr>\n",
       "    <tr>\n",
       "      <th>Base Ridge Model</th>\n",
       "      <td>0.919872</td>\n",
       "      <td>21267.0</td>\n",
       "      <td>0.900467</td>\n",
       "      <td>20681.0</td>\n",
       "    </tr>\n",
       "    <tr>\n",
       "      <th>Best Ridge Model</th>\n",
       "      <td>0.919078</td>\n",
       "      <td>21471.0</td>\n",
       "      <td>0.901191</td>\n",
       "      <td>20490.0</td>\n",
       "    </tr>\n",
       "    <tr>\n",
       "      <th>Base Laso Model</th>\n",
       "      <td>0.000000</td>\n",
       "      <td>82080.0</td>\n",
       "      <td>-0.001085</td>\n",
       "      <td>77106.0</td>\n",
       "    </tr>\n",
       "    <tr>\n",
       "      <th>Best Laso Model</th>\n",
       "      <td>0.919034</td>\n",
       "      <td>21471.0</td>\n",
       "      <td>0.902861</td>\n",
       "      <td>20423.0</td>\n",
       "    </tr>\n",
       "    <tr>\n",
       "      <th>Best Ridge Double Alpha</th>\n",
       "      <td>0.917939</td>\n",
       "      <td>21709.0</td>\n",
       "      <td>0.900580</td>\n",
       "      <td>20461.0</td>\n",
       "    </tr>\n",
       "    <tr>\n",
       "      <th>Best Lasso Double Alpha</th>\n",
       "      <td>0.917898</td>\n",
       "      <td>21700.0</td>\n",
       "      <td>0.903868</td>\n",
       "      <td>20193.0</td>\n",
       "    </tr>\n",
       "  </tbody>\n",
       "</table>\n",
       "</div>"
      ],
      "text/plain": [
       "                         R2_Train  RMSE_Train   R2_Test  RMSE_Test\n",
       "Base LR Model            0.919872     21267.0  0.900467    20681.0\n",
       "Base Ridge Model         0.919872     21267.0  0.900467    20681.0\n",
       "Best Ridge Model         0.919078     21471.0  0.901191    20490.0\n",
       "Base Laso Model          0.000000     82080.0 -0.001085    77106.0\n",
       "Best Laso Model          0.919034     21471.0  0.902861    20423.0\n",
       "Best Ridge Double Alpha  0.917939     21709.0  0.900580    20461.0\n",
       "Best Lasso Double Alpha  0.917898     21700.0  0.903868    20193.0"
      ]
     },
     "execution_count": 111,
     "metadata": {},
     "output_type": "execute_result"
    }
   ],
   "source": [
    "results.loc['Best Lasso Double Alpha'] = temp_results\n",
    "\n",
    "results"
   ]
  },
  {
   "cell_type": "markdown",
   "id": "222b7192",
   "metadata": {},
   "source": [
    " "
   ]
  },
  {
   "cell_type": "markdown",
   "id": "9aec51c3",
   "metadata": {},
   "source": [
    " "
   ]
  },
  {
   "cell_type": "markdown",
   "id": "ea05decf",
   "metadata": {},
   "source": [
    "#### Question 3 - Lasso"
   ]
  },
  {
   "cell_type": "code",
   "execution_count": 112,
   "id": "cea6caae",
   "metadata": {},
   "outputs": [
    {
     "data": {
      "text/plain": [
       "Index(['GrLivArea', 'OverallQual', 'HouseAge', 'OverallCond', 'TotalBsmtSF'], dtype='object')"
      ]
     },
     "execution_count": 112,
     "metadata": {},
     "output_type": "execute_result"
    }
   ],
   "source": [
    "best_lasso"
   ]
  },
  {
   "cell_type": "code",
   "execution_count": 113,
   "id": "e4a47213",
   "metadata": {},
   "outputs": [],
   "source": [
    "x_train.drop(best_lasso,axis=1,inplace=True)\n",
    "x_test.drop(best_lasso,axis=1,inplace=True)"
   ]
  },
  {
   "cell_type": "code",
   "execution_count": 114,
   "id": "168e1bb9",
   "metadata": {},
   "outputs": [],
   "source": [
    "Lasso_reg_2 = Lasso(random_state=42)"
   ]
  },
  {
   "cell_type": "code",
   "execution_count": 115,
   "id": "100815bc",
   "metadata": {},
   "outputs": [
    {
     "name": "stdout",
     "output_type": "stream",
     "text": [
      "Fitting 5 folds for each of 28 candidates, totalling 140 fits\n"
     ]
    },
    {
     "data": {
      "text/plain": [
       "GridSearchCV(cv=5, estimator=Lasso(random_state=42),\n",
       "             param_grid={'alpha': [0.0001, 0.001, 0.01, 0.05, 0.1, 0.2, 0.3,\n",
       "                                   0.4, 0.5, 0.6, 0.7, 0.8, 0.9, 1.0, 2.0, 3.0,\n",
       "                                   4.0, 5.0, 6.0, 7.0, 8.0, 9.0, 10.0, 20, 50,\n",
       "                                   100, 500, 1000]},\n",
       "             return_train_score=True, scoring='neg_mean_squared_error',\n",
       "             verbose=1)"
      ]
     },
     "execution_count": 115,
     "metadata": {},
     "output_type": "execute_result"
    }
   ],
   "source": [
    "# list of alphas to tune - if value too high it will lead to underfitting, if it is too low, \n",
    "# it will not handle the overfitting\n",
    "params = {'alpha': [0.0001, 0.001, 0.01, 0.05, 0.1, \n",
    " 0.2, 0.3, 0.4, 0.5, 0.6, 0.7, 0.8, 0.9, 1.0, 2.0, 3.0, \n",
    " 4.0, 5.0, 6.0, 7.0, 8.0, 9.0, 10.0, 20, 50, 100, 500, 1000 ]}\n",
    "\n",
    "#ridge = Ridge()\n",
    "\n",
    "# cross validation\n",
    "folds = 5\n",
    "best_laso_model_cv = GridSearchCV(estimator = Lasso_reg_2, \n",
    "                        param_grid = params, \n",
    "                        scoring= 'neg_mean_squared_error',  \n",
    "                        cv = folds, \n",
    "                        return_train_score=True,\n",
    "                        verbose = 1)            \n",
    "\n",
    "best_laso_model_cv.fit(x_train, y_train) "
   ]
  },
  {
   "cell_type": "code",
   "execution_count": 116,
   "id": "89b99a3b",
   "metadata": {},
   "outputs": [
    {
     "data": {
      "text/plain": [
       "Lasso(alpha=0.001, random_state=42)"
      ]
     },
     "execution_count": 116,
     "metadata": {},
     "output_type": "execute_result"
    }
   ],
   "source": [
    "best_laso_model_cv.best_estimator_"
   ]
  },
  {
   "cell_type": "code",
   "execution_count": 117,
   "id": "56ef6009",
   "metadata": {},
   "outputs": [],
   "source": [
    "lasso_reg = Lasso(alpha=0.001, random_state=42)\n",
    "\n",
    "Best_Lasso_alpha_2 = lasso_reg.fit(x_train,y_train)"
   ]
  },
  {
   "cell_type": "code",
   "execution_count": 118,
   "id": "1f19396d",
   "metadata": {},
   "outputs": [],
   "source": [
    "Best_Lasso_Pred_alpha_2 = Best_Lasso_alpha_2.predict(x_train)\n",
    "\n",
    "temp_results = []\n",
    "\n",
    "temp_results.append(r2_score(y_train,Best_Lasso_Pred_alpha_2))\n",
    "\n",
    "temp_results.append(round(mean_squared_error(np.exp(y_train),np.exp(Best_Lasso_Pred_alpha_2))**0.5))\n",
    "\n",
    "Best_Lasso_Pred_Test_alpha_2 = Best_Lasso_alpha_2.predict(x_test)\n",
    "\n",
    "temp_results.append(r2_score(y_test,Best_Lasso_Pred_Test_alpha_2))\n",
    "\n",
    "temp_results.append(round(mean_squared_error(np.exp(y_test),np.exp(Best_Lasso_Pred_Test_alpha_2))**0.5))"
   ]
  },
  {
   "cell_type": "code",
   "execution_count": 119,
   "id": "cb3403ec",
   "metadata": {},
   "outputs": [],
   "source": [
    "Second_Lasso = pd.DataFrame(index=x_train.columns)\n",
    "Second_Lasso['Lasso'] = lasso_reg.coef_"
   ]
  },
  {
   "cell_type": "code",
   "execution_count": 120,
   "id": "9d195363",
   "metadata": {},
   "outputs": [
    {
     "data": {
      "text/plain": [
       "2ndFlrSF      0.095193\n",
       "1stFlrSF      0.090547\n",
       "BsmtFinSF1    0.082529\n",
       "BsmtUnfSF     0.047053\n",
       "GarageCars    0.040196\n",
       "Name: Lasso, dtype: float64"
      ]
     },
     "execution_count": 120,
     "metadata": {},
     "output_type": "execute_result"
    }
   ],
   "source": [
    "best_lasso_2 = abs(Second_Lasso[['Lasso']]).sort_values(by='Lasso', ascending=False).head().index\n",
    "\n",
    "Second_Lasso.loc[best_lasso_2,'Lasso']"
   ]
  },
  {
   "cell_type": "code",
   "execution_count": 121,
   "id": "18c669b2",
   "metadata": {},
   "outputs": [
    {
     "data": {
      "text/html": [
       "<div>\n",
       "<style scoped>\n",
       "    .dataframe tbody tr th:only-of-type {\n",
       "        vertical-align: middle;\n",
       "    }\n",
       "\n",
       "    .dataframe tbody tr th {\n",
       "        vertical-align: top;\n",
       "    }\n",
       "\n",
       "    .dataframe thead th {\n",
       "        text-align: right;\n",
       "    }\n",
       "</style>\n",
       "<table border=\"1\" class=\"dataframe\">\n",
       "  <thead>\n",
       "    <tr style=\"text-align: right;\">\n",
       "      <th></th>\n",
       "      <th>R2_Train</th>\n",
       "      <th>RMSE_Train</th>\n",
       "      <th>R2_Test</th>\n",
       "      <th>RMSE_Test</th>\n",
       "    </tr>\n",
       "  </thead>\n",
       "  <tbody>\n",
       "    <tr>\n",
       "      <th>Base LR Model</th>\n",
       "      <td>0.919872</td>\n",
       "      <td>21267.0</td>\n",
       "      <td>0.900467</td>\n",
       "      <td>20681.0</td>\n",
       "    </tr>\n",
       "    <tr>\n",
       "      <th>Base Ridge Model</th>\n",
       "      <td>0.919872</td>\n",
       "      <td>21267.0</td>\n",
       "      <td>0.900467</td>\n",
       "      <td>20681.0</td>\n",
       "    </tr>\n",
       "    <tr>\n",
       "      <th>Best Ridge Model</th>\n",
       "      <td>0.919078</td>\n",
       "      <td>21471.0</td>\n",
       "      <td>0.901191</td>\n",
       "      <td>20490.0</td>\n",
       "    </tr>\n",
       "    <tr>\n",
       "      <th>Base Laso Model</th>\n",
       "      <td>0.000000</td>\n",
       "      <td>82080.0</td>\n",
       "      <td>-0.001085</td>\n",
       "      <td>77106.0</td>\n",
       "    </tr>\n",
       "    <tr>\n",
       "      <th>Best Laso Model</th>\n",
       "      <td>0.919034</td>\n",
       "      <td>21471.0</td>\n",
       "      <td>0.902861</td>\n",
       "      <td>20423.0</td>\n",
       "    </tr>\n",
       "    <tr>\n",
       "      <th>Best Ridge Double Alpha</th>\n",
       "      <td>0.917939</td>\n",
       "      <td>21709.0</td>\n",
       "      <td>0.900580</td>\n",
       "      <td>20461.0</td>\n",
       "    </tr>\n",
       "    <tr>\n",
       "      <th>Best Lasso Double Alpha</th>\n",
       "      <td>0.917898</td>\n",
       "      <td>21700.0</td>\n",
       "      <td>0.903868</td>\n",
       "      <td>20193.0</td>\n",
       "    </tr>\n",
       "    <tr>\n",
       "      <th>Best Lasso Assessment 3</th>\n",
       "      <td>0.895719</td>\n",
       "      <td>23691.0</td>\n",
       "      <td>0.868087</td>\n",
       "      <td>23349.0</td>\n",
       "    </tr>\n",
       "  </tbody>\n",
       "</table>\n",
       "</div>"
      ],
      "text/plain": [
       "                         R2_Train  RMSE_Train   R2_Test  RMSE_Test\n",
       "Base LR Model            0.919872     21267.0  0.900467    20681.0\n",
       "Base Ridge Model         0.919872     21267.0  0.900467    20681.0\n",
       "Best Ridge Model         0.919078     21471.0  0.901191    20490.0\n",
       "Base Laso Model          0.000000     82080.0 -0.001085    77106.0\n",
       "Best Laso Model          0.919034     21471.0  0.902861    20423.0\n",
       "Best Ridge Double Alpha  0.917939     21709.0  0.900580    20461.0\n",
       "Best Lasso Double Alpha  0.917898     21700.0  0.903868    20193.0\n",
       "Best Lasso Assessment 3  0.895719     23691.0  0.868087    23349.0"
      ]
     },
     "execution_count": 121,
     "metadata": {},
     "output_type": "execute_result"
    }
   ],
   "source": [
    "results.loc['Best Lasso Assessment 3'] = temp_results\n",
    "\n",
    "results"
   ]
  }
 ],
 "metadata": {
  "celltoolbar": "Raw Cell Format",
  "kernelspec": {
   "display_name": "Python 3",
   "language": "python",
   "name": "python3"
  },
  "language_info": {
   "codemirror_mode": {
    "name": "ipython",
    "version": 3
   },
   "file_extension": ".py",
   "mimetype": "text/x-python",
   "name": "python",
   "nbconvert_exporter": "python",
   "pygments_lexer": "ipython3",
   "version": "3.8.10"
  }
 },
 "nbformat": 4,
 "nbformat_minor": 5
}
